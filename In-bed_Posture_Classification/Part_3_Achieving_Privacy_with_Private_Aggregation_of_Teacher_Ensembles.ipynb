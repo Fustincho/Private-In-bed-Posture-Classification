{
  "nbformat": 4,
  "nbformat_minor": 0,
  "metadata": {
    "kernelspec": {
      "name": "python3",
      "display_name": "Python 3"
    },
    "language_info": {
      "codemirror_mode": {
        "name": "ipython",
        "version": 3
      },
      "file_extension": ".py",
      "mimetype": "text/x-python",
      "name": "python",
      "nbconvert_exporter": "python",
      "pygments_lexer": "ipython3",
      "version": "3.6.8"
    },
    "colab": {
      "name": "Part_3_Achieving_Privacy_with_Private_Aggregation_of_Teacher_Ensembles.ipynb",
      "version": "0.3.2",
      "provenance": [],
      "collapsed_sections": []
    },
    "accelerator": "GPU"
  },
  "cells": [
    {
      "cell_type": "code",
      "metadata": {
        "id": "tuKZNIfP24tQ",
        "colab_type": "code",
        "colab": {}
      },
      "source": [
        "# Data Load\n",
        "import os\n",
        "import numpy as np\n",
        "\n",
        "# PyTorch (modeling)\n",
        "import torch\n",
        "from torch import nn\n",
        "import torch.nn.functional as F\n",
        "import torch.optim as optim\n",
        "from torch.utils.data.sampler import SubsetRandomSampler\n",
        "from torchvision import transforms\n",
        "import torchvision.transforms.functional as TF\n",
        "from torch.utils.data import Dataset\n",
        "\n",
        "# Visualization\n",
        "import matplotlib.pyplot as plt\n",
        "import seaborn as sns\n",
        "\n",
        "# These functions are introduced along the Part 1 notebook.\n",
        "\n",
        "# Position vectors. We load the data with respect to the file name, which is\n",
        "# a number corresponding to a specific in-bed position. We take advantage of this\n",
        "# and use the number to get the position with help of the following vectors.\n",
        "\n",
        "positions_i = [\"justAPlaceholder\", \"supine\", \"right\",\n",
        "               \"left\", \"right\", \"right\",\n",
        "               \"left\", \"left\", \"supine\",\n",
        "               \"supine\", \"supine\", \"supine\",\n",
        "               \"supine\", \"right\", \"left\",\n",
        "               \"supine\", \"supine\", \"supine\"]\n",
        "\n",
        "positions_ii = {\n",
        "    \"B\":\"supine\", \"1\":\"supine\", \"C\":\"right\",\n",
        "    \"D\":\"left\", \"E1\":\"right\", \"E2\":\"right\",\n",
        "    \"E3\":\"left\", \"E4\":\"left\", \"E5\":\"right\",\n",
        "    \"E6\":\"left\", \"F\":\"supine\", \"G1\":\"supine\",\n",
        "    \"G2\":\"right\", \"G3\":\"left\"\n",
        "}\n",
        "\n",
        "# We also want the classes to be encoded as numbers so we can work easier when\n",
        "# modeling. This function achieves so. Since left_fetus and right_fetus are not\n",
        "# considered as classes in the evaluation of the original paper and since they\n",
        "# are not considered in the \"Experiment I\", we encode them also as left and right\n",
        "# positions.\n",
        "\n",
        "def token_position(x):\n",
        "  return {\n",
        "      'supine': 0,\n",
        "      'left': 1,\n",
        "      'right': 2,\n",
        "      'left_fetus': 1,\n",
        "      'right_fetus': 2\n",
        "  }[x]\n",
        "\n",
        "def load_exp_i(path):\n",
        "  \"\"\"\n",
        "  Creates a numpy array for the data and labels.\n",
        "\n",
        "  params:\n",
        "  ------\n",
        "  path    -- Data path.\n",
        "\n",
        "  returns:\n",
        "  -------\n",
        "  A numpy array (data, labels).\n",
        "  \"\"\"\n",
        "\n",
        "  dataset = {}\n",
        "\n",
        "  for _, dirs, _ in os.walk(path):\n",
        "    for directory in dirs:\n",
        "      # each directory is a subject\n",
        "      subject = directory\n",
        "      data = None\n",
        "      labels = None\n",
        "      for _, _, files in os.walk(os.path.join(path, directory)):\n",
        "        for file in files:\n",
        "          file_path = os.path.join(path, directory, file)\n",
        "          with open(file_path, 'r') as f:\n",
        "            # Start from second recording, as the first two are corrupted\n",
        "            for line in f.read().splitlines()[2:]:\n",
        "\n",
        "              raw_data = np.fromstring(line, dtype=float, sep='\\t')\n",
        "              # Change the range from [0-1000] to [0-255].\n",
        "              file_data = np.round(raw_data*255/1000).astype(np.uint8)\n",
        "              Normalize = transforms.Compose([\n",
        "                          transforms.ToPILImage(),\n",
        "                          transforms.ToTensor()\n",
        "                          ])\n",
        "              file_data = Normalize(file_data.reshape(64,32))\n",
        "              file_data = file_data.view(1, 64, 32)\n",
        "              # Turn the file index into position list,\n",
        "              # and turn position list into reduced indices.\n",
        "              file_label = token_position(positions_i[int(file[:-4])])\n",
        "              file_label = np.array([file_label])\n",
        "\n",
        "              if data is None:\n",
        "                data = file_data\n",
        "              else:\n",
        "                data = np.concatenate((data, file_data), axis=0)\n",
        "              if labels is None:\n",
        "                labels = file_label\n",
        "              else:\n",
        "                labels = np.concatenate((labels, file_label), axis=0)\n",
        "\n",
        "      dataset[subject] = (torch.from_numpy(data), torch.from_numpy(labels))\n",
        "  return dataset\n",
        "\n",
        "# Both air and sponge mattresses used in the data collection have a different\n",
        "# size (64 x 27), opposed to the pressure mattress (64 x 32) used in the first\n",
        "# experiment. Additionally, the image is rotated by 180 degrees with respect to\n",
        "# the experiment one images.\n",
        "# This function serves to set the format of the images equal to the ones taken\n",
        "# by the pressure mat.\n",
        "\n",
        "def resize_and_rotate(image):\n",
        "  To_PIL_and_Resize = transforms.Compose([\n",
        "                      transforms.ToPILImage(),\n",
        "                      transforms.Resize((64, 32))\n",
        "                      ])\n",
        "\n",
        "  rotated = TF.rotate(To_PIL_and_Resize(image), angle=180)\n",
        "\n",
        "  return transforms.ToTensor()(rotated)\n",
        "\n",
        "\n",
        "def load_exp_ii(path):\n",
        "\n",
        "  exp_ii_data_air = {}\n",
        "  exp_ii_data_spo = {}\n",
        "\n",
        "  # each directory is a subject\n",
        "  for _, subject_dirs, _ in os.walk(path):\n",
        "    for subject in subject_dirs:\n",
        "      data = None\n",
        "      labels = None\n",
        "\n",
        "      # each directory is a matresss\n",
        "      for _, mat_dirs, _ in os.walk(os.path.join(path, subject)):\n",
        "        for mat in mat_dirs:\n",
        "          for _, _, files in os.walk(os.path.join(path, subject, mat)):\n",
        "            for file in files:\n",
        "              file_path = os.path.join(path, subject, mat, file)\n",
        "              raw_data = np.loadtxt(file_path)\n",
        "              # Change the range from [0-500] to [0-255].\n",
        "              file_data = np.round(raw_data*255/500).astype(np.uint8)\n",
        "              file_data = resize_and_rotate(file_data)\n",
        "              file_data = file_data.view(1, 64, 32)\n",
        "\n",
        "              if file[-6] == \"E\" or file[-6] == \"G\":\n",
        "                file_label = positions_ii[file[-6:-4]]\n",
        "              else:\n",
        "                file_label = positions_ii[file[-6]]\n",
        "\n",
        "              file_label = token_position(file_label)\n",
        "              file_label = np.array([file_label])\n",
        "\n",
        "              if data is None:\n",
        "                data = file_data\n",
        "              else:\n",
        "                data = np.concatenate((data, file_data), axis=0)\n",
        "\n",
        "              if labels is None:\n",
        "                labels = file_label\n",
        "              else:\n",
        "                labels = np.concatenate((labels, file_label), axis=0)\n",
        "\n",
        "          if mat == \"Air_Mat\":\n",
        "            exp_ii_data_air[subject] = (torch.from_numpy(data), torch.from_numpy(labels))\n",
        "          else:\n",
        "            exp_ii_data_spo[subject] = (torch.from_numpy(data), torch.from_numpy(labels))\n",
        "\n",
        "          data = None\n",
        "          labels = None\n",
        "\n",
        "    return exp_ii_data_air, exp_ii_data_spo\n",
        "\n",
        "### Leave-one-subject-out Cross Validation (used on Part 2)\n",
        "\n",
        "def exp_i_cv():\n",
        "  subjects_i = [\"S1\", \"S2\", \"S3\", \"S4\", \"S5\", \"S6\", \"S7\",\n",
        "                \"S8\", \"S9\", \"S10\", \"S11\", \"S12\", \"S13\"]\n",
        "\n",
        "  print(\"Performing one-subject-out cross validation on 'Experiment I':\")\n",
        "\n",
        "  torch.manual_seed(123)\n",
        "\n",
        "  accuracies = []\n",
        "\n",
        "  for subject in subjects_i:\n",
        "    remaining_subjects = subjects_i.copy()\n",
        "    remaining_subjects.remove(subject)\n",
        "\n",
        "    trainset_exp_i = Mat_Dataset([\"Base\"], remaining_subjects)\n",
        "    valset_exp_i = Mat_Dataset([\"Base\"], [subject])\n",
        "\n",
        "    trainloader = DataLoader(trainset_exp_i, batch_size=64, shuffle=True)\n",
        "    testloader = DataLoader(valset_exp_i, batch_size=64, shuffle=False)\n",
        "\n",
        "    device = torch.device(\"cuda\" if torch.cuda.is_available() else \"cpu\")\n",
        "\n",
        "    model = CNN()\n",
        "\n",
        "    criterion = nn.NLLLoss()\n",
        "\n",
        "    optimizer = optim.Adam(model.parameters(), lr = 0.001)\n",
        "\n",
        "    model.to(device)\n",
        "\n",
        "    epochs = 15\n",
        "    running_loss = 0\n",
        "\n",
        "    train_losses, test_losses = [], []\n",
        "\n",
        "    for epoch in range(epochs):\n",
        "      for inputs, labels in trainloader:\n",
        "\n",
        "        inputs, labels = inputs.to(device), labels.to(device)\n",
        "\n",
        "        optimizer.zero_grad()\n",
        "\n",
        "        logps = model.forward(inputs)\n",
        "        loss = criterion(logps, labels)\n",
        "        loss.backward()\n",
        "        optimizer.step()\n",
        "\n",
        "        running_loss += loss.item()\n",
        "\n",
        "      else:\n",
        "\n",
        "        test_loss = 0\n",
        "        accuracy = 0\n",
        "        model.eval()\n",
        "\n",
        "        with torch.no_grad():\n",
        "          for inputs, labels in testloader:\n",
        "            inputs, labels = inputs.to(device), labels.to(device)\n",
        "            logps = model.forward(inputs)\n",
        "            test_loss += criterion(logps, labels)\n",
        "\n",
        "            ps = torch.exp(logps)\n",
        "            top_p, top_class = ps.topk(1, dim=1)\n",
        "            equals = top_class == labels.view(*top_class.shape)\n",
        "            accuracy += torch.mean(equals.type(torch.FloatTensor))\n",
        "\n",
        "        train_losses.append(running_loss/len(trainloader))\n",
        "        test_losses.append(test_loss/len(testloader))\n",
        "\n",
        "        accuracy = accuracy/len(testloader)\n",
        "        if (epoch + 1) == epochs:\n",
        "          print(f\"Leave out: {subject} - \"\n",
        "                f\"Test accuracy: {accuracy:.3f}\")\n",
        "        running_loss = 0\n",
        "        model.train()\n",
        "\n",
        "    accuracies.append(accuracy)\n",
        "  print(f\"Results, one-subject-out cross validation: accuracy: {np.mean(accuracies)}\")\n",
        "\n",
        "# Custom class introduced on Part 2\n",
        "\n",
        "class Mat_Dataset(Dataset):\n",
        "  def __init__(self, mats, Subject_IDs):\n",
        "    \n",
        "    self.samples = []\n",
        "    self.labels = []\n",
        "    \n",
        "    for mat in mats:\n",
        "      data = datasets[mat]\n",
        "      self.samples.append(np.vstack([data.get(key)[0] for key in Subject_IDs]))\n",
        "      self.labels.append(np.hstack([data.get(key)[1] for key in Subject_IDs]))\n",
        "      \n",
        "    self.samples = np.vstack(self.samples)\n",
        "    self.labels = np.hstack(self.labels)\n",
        "    \n",
        "  def __len__(self):\n",
        "    return self.samples.shape[0]\n",
        "      \n",
        "  def __getitem__(self, idx):\n",
        "    return self.samples[idx], self.labels[idx]\n",
        "\n",
        "# CNN model introduced in Part 2\n",
        "\n",
        "class CNN(nn.Module):\n",
        "  \n",
        "  def __init__(self):\n",
        "    super().__init__()\n",
        "\n",
        "    ## Convolutional Layers\n",
        "    #Input channels = 1, output channels = 6\n",
        "    self.conv1 = torch.nn.Conv2d(1, 6, kernel_size=3, stride=1, padding=1)\n",
        "    #Input channels = 6, output channels = 18\n",
        "    self.conv2 = torch.nn.Conv2d(6, 18, kernel_size=3, stride=1, padding=1)\n",
        "\n",
        "    ## Pool Layer\n",
        "    self.pool = torch.nn.MaxPool2d(kernel_size=2, stride=2, padding=0)\n",
        "\n",
        "    ## Mulit-Layer Perceptron\n",
        "    # Hidden layers\n",
        "    self.h1 = nn.Linear(18 * 16 * 8, 392)\n",
        "    self.h2 = nn.Linear(392, 98)\n",
        "\n",
        "    # Output layer, 3 neurons - one for each position\n",
        "    self.output = nn.Linear(98, 3)\n",
        "\n",
        "    # ReLU activation and softmax output \n",
        "    self.relu = nn.ReLU()\n",
        "    self.logsoftmax = nn.LogSoftmax(dim=1)\n",
        "\n",
        "  def forward(self, x):\n",
        "\n",
        "    x = x.float()\n",
        "    # Add a \"channel dimension\"\n",
        "    x = x.unsqueeze(1)\n",
        "\n",
        "    ## Computation on convolutional and pool layers:\n",
        "    # Size changes from (1, 64, 32) to (6, 64, 32)\n",
        "    x = F.relu(self.conv1(x))\n",
        "    # Size changes from (6, 64, 32) to (6, 32, 16)\n",
        "    x = self.pool(x)\n",
        "    # Size changes from (6, 32, 16) to (18, 32, 16)\n",
        "    x = F.relu(self.conv2(x))\n",
        "    # Size changes from (18, 32, 16) to (18, 16, 8)\n",
        "    x = self.pool(x)\n",
        "\n",
        "    # Reshape data to input to the input layer of the MLP\n",
        "    # Size changes from (18, 16, 8) to (1, 2304)\n",
        "    x = x.view(x.shape[0], -1)\n",
        "    \n",
        "    ## Computation on the MLP layers:\n",
        "    x = self.h1(x)\n",
        "    x = self.relu(x)\n",
        "    x = self.h2(x)\n",
        "    x = self.relu(x)\n",
        "    x = self.output(x)\n",
        "    x = self.logsoftmax(x)\n",
        "\n",
        "    return x"
      ],
      "execution_count": 0,
      "outputs": []
    },
    {
      "cell_type": "code",
      "metadata": {
        "id": "j_hwta_gFAis",
        "colab_type": "code",
        "colab": {
          "base_uri": "https://localhost:8080/",
          "height": 208
        },
        "outputId": "48370109-9410-4f4b-f43c-44e94f879b78"
      },
      "source": [
        "!wget https://physionet.org/static/published-projects/pmd/a-pressure-map-dataset-for-in-bed-posture-classification-1.0.0.zip\n",
        "!unzip -q a-pressure-map-dataset-for-in-bed-posture-classification-1.0.0.zip\n",
        "!mv a-pressure-map-dataset-for-in-bed-posture-classification-1.0.0 dataset"
      ],
      "execution_count": 9,
      "outputs": [
        {
          "output_type": "stream",
          "text": [
            "--2019-08-19 18:11:56--  https://physionet.org/static/published-projects/pmd/a-pressure-map-dataset-for-in-bed-posture-classification-1.0.0.zip\n",
            "Resolving physionet.org (physionet.org)... 128.30.30.88\n",
            "Connecting to physionet.org (physionet.org)|128.30.30.88|:443... connected.\n",
            "HTTP request sent, awaiting response... 200 OK\n",
            "Length: 107315828 (102M) [application/zip]\n",
            "Saving to: ‘a-pressure-map-dataset-for-in-bed-posture-classification-1.0.0.zip’\n",
            "\n",
            "a-pressure-map-data 100%[===================>] 102.34M  70.5MB/s    in 1.5s    \n",
            "\n",
            "2019-08-19 18:12:00 (70.5 MB/s) - ‘a-pressure-map-dataset-for-in-bed-posture-classification-1.0.0.zip’ saved [107315828/107315828]\n",
            "\n"
          ],
          "name": "stdout"
        }
      ]
    },
    {
      "cell_type": "markdown",
      "metadata": {
        "id": "2c7f50C2yAjp",
        "colab_type": "text"
      },
      "source": [
        "# [Part 3] - Introduction\n",
        "\n",
        "This notebook belongs to a 4-parts project. This part is dedicated to implement a training strategy that ensures privacy, called PATE, which was introduced by Papernot et al (2017) on their paper [Semi-supervised knowledge transfer for Deep Learning from private training data](https://arxiv.org/abs/1610.05755). "
      ]
    },
    {
      "cell_type": "markdown",
      "metadata": {
        "id": "PqIqUi-k3PSP",
        "colab_type": "text"
      },
      "source": [
        "Additionally, we use an utility function from [PySyft](https://github.com/OpenMined/PySyft), a library for encrypted, privacy preserving deep learning, that allow us to analyze our PATE implementation and know how private our learning strategy is. For this reason we start by installing PySyft, which also will be useful for the 4th part of this project."
      ]
    },
    {
      "cell_type": "code",
      "metadata": {
        "id": "JUsY4znI4eiM",
        "colab_type": "code",
        "colab": {}
      },
      "source": [
        "%%capture\n",
        "!pip install syft"
      ],
      "execution_count": 0,
      "outputs": []
    },
    {
      "cell_type": "code",
      "metadata": {
        "id": "kB-TXvI0pVbN",
        "colab_type": "code",
        "outputId": "2700bb20-b746-4492-bef0-9226afb59b54",
        "colab": {
          "base_uri": "https://localhost:8080/",
          "height": 106
        }
      },
      "source": [
        "# Data Load\n",
        "import os\n",
        "import numpy as np\n",
        "\n",
        "# PyTorch (modeling)\n",
        "import torch\n",
        "from torch import nn\n",
        "import torch.nn.functional as F\n",
        "from torch import optim\n",
        "from torch.utils.data.sampler import SubsetRandomSampler\n",
        "from torchvision import transforms\n",
        "import torchvision.transforms.functional as TF\n",
        "from torch.utils.data import random_split\n",
        "from torch.utils.data import DataLoader\n",
        "from torch.utils.data import Dataset\n",
        "\n",
        "# Visualization\n",
        "import matplotlib.pyplot as plt\n",
        "import seaborn as sns\n",
        "%matplotlib inline\n",
        "\n",
        "from syft.frameworks.torch.differential_privacy import pate"
      ],
      "execution_count": 4,
      "outputs": [
        {
          "output_type": "stream",
          "text": [
            "WARNING: Logging before flag parsing goes to stderr.\n",
            "W0819 18:00:39.870524 140303037773696 secure_random.py:26] Falling back to insecure randomness since the required custom op could not be found for the installed version of TensorFlow. Fix this by compiling custom ops. Missing file was '/usr/local/lib/python3.6/dist-packages/tf_encrypted/operations/secure_random/secure_random_module_tf_1.14.0.so'\n",
            "W0819 18:00:39.894803 140303037773696 deprecation_wrapper.py:119] From /usr/local/lib/python3.6/dist-packages/tf_encrypted/session.py:26: The name tf.Session is deprecated. Please use tf.compat.v1.Session instead.\n",
            "\n"
          ],
          "name": "stderr"
        }
      ]
    },
    {
      "cell_type": "code",
      "metadata": {
        "id": "1Cn4P_APEuLe",
        "colab_type": "code",
        "colab": {}
      },
      "source": [
        "exp_i_data = load_exp_i(\"dataset/experiment-i\")\n",
        "exp_ii_data_air, exp_ii_data_spo = load_exp_ii(\"dataset/experiment-ii\")\n",
        "\n",
        "datasets = {\n",
        "    \"Base\":exp_i_data,\n",
        "    \"Spo\":exp_ii_data_air,\n",
        "    \"Air\":exp_ii_data_spo\n",
        "}"
      ],
      "execution_count": 0,
      "outputs": []
    },
    {
      "cell_type": "markdown",
      "metadata": {
        "id": "X0Drb4AYh9eM",
        "colab_type": "text"
      },
      "source": [
        "## PATE Overview \n",
        "\n",
        "Privacy methods in deep learning (and machine learning in general) arise as a necessity of ensuring the subjects, whose data is being used for modeling, that the models are not storing any sensitive data and that there is no way of retreiving it by neither using the model nor by examining its parameters.\n",
        "\n",
        "Sensitive data can be thought, for example, in a medical scenario, where models can be created for example to improve the diagnostics capabilities of hospitals, but at thhe same time patients do not want to leak any of their personal (or medical) information by contributing with their data to the creation of a machine learning model.\n",
        "\n",
        "The difficulty arises when the goals is to guarantee to *every person* that their private data is, in fact, private. Most training methods cannot accomplish this, because even though the models look forward to generalize to the test set, they can still overfit on outliers (specific training examples). \n",
        "\n",
        "PATE (stands for Private Aggregation of Teacher Ensembles) is a model-agnostic learning strategy, meaning that it can be implemented no matter what learning algorithm is being used for a specific task. It works by creating a teachers-student scenario, where the teachers represent already available models for a task and the student is the new model to develop for the same task. The student's training phase uses labels that are acquired from the aggregated votes that teachers generate for every data point, and privacy is ensured by adding some noise to the teacher votes.\n",
        "\n",
        "After training, the student model is the one deployed, instead of the teacher ensemble."
      ]
    },
    {
      "cell_type": "markdown",
      "metadata": {
        "id": "IP4GcB2mD6HZ",
        "colab_type": "text"
      },
      "source": [
        "## Our proposed scenario\n",
        "\n",
        "We simulate the following scenario with the data we have been working on to develop the idea of PATE: \n",
        "\n",
        "* We work on a hospital where we have three patitents who have used a pressure mattress. We would like to monitor their in-bed lying positions to, among others, prevent any skin lesion if they stay on the same position for a long time period. We have, however, no model to accomplish this but we know that there are ten hospitals who built a model using their own data. We ask them to borrow us their models, which we will use to train ours. Additionally, we want to ensure that the data contained in their models will not be leaked, even though that their models per-se might leak private data or contain sensitive information. Additionally, we want to ensure *our patients* that our model will not overfit and contain any of their private information (i.e., by looking at the model parameters or by using it, nobody would be able to generate an image of their exact pressure recordings).\n",
        "\n",
        "* We regard every subject collection of measurements (from S1 to S10) as data collected from *individual hospitals*, meaning that there are ten hospitals available to help. Their models are the **teacher models**.\n",
        "\n",
        "* We possess data of S11 to S13, and we want to create a model on our data, based on the teacher votes. Our model is the **student model**.\n",
        "\n",
        "* We assume for simplicity that the architecture of all models is the same. We use the proposed architecture in part 2, a convolutional neural network, which can be instanciated via `helper.py` by callling `CNN()`.\n",
        "\n",
        "## STEP 1: Gather the Teachers\n",
        "\n",
        "Let's begin by creating a function to train the teachers. While on a real application we should get already trained models from the hospitals, our simulated scenario require us to train the models. For this, we instantiate a CNN and set the learning strategy on `train_teacher()`"
      ]
    },
    {
      "cell_type": "code",
      "metadata": {
        "id": "DUrBVpHn0LY-",
        "colab_type": "code",
        "colab": {}
      },
      "source": [
        "def train_teacher(device, trainloader, epochs=15, seed=123):\n",
        "  model = CNN()\n",
        "\n",
        "  criterion = nn.NLLLoss()\n",
        "\n",
        "  optimizer = optim.Adam(model.parameters(), lr = 0.001)\n",
        "\n",
        "  model.to(device)\n",
        "\n",
        "  torch.manual_seed(seed)\n",
        "\n",
        "  for epoch in range(epochs):\n",
        "    for inputs, labels in trainloader:\n",
        "\n",
        "      inputs, labels = inputs.to(device), labels.to(device)\n",
        "\n",
        "      optimizer.zero_grad()\n",
        "\n",
        "      logps = model.forward(inputs)\n",
        "      loss = criterion(logps, labels)\n",
        "      loss.backward()\n",
        "      optimizer.step()\n",
        "\n",
        "  return model"
      ],
      "execution_count": 0,
      "outputs": []
    },
    {
      "cell_type": "markdown",
      "metadata": {
        "id": "Qi8YH2pqCTZf",
        "colab_type": "text"
      },
      "source": [
        "## STEP 2: Gather the teacher votes\n",
        "\n",
        "The idea of PATE is that every teacher examines the data we want to train our model on (that is, data from S11, S12, and S13)  and generates a prediction for each image. This prediction is the teacher's _vote_ and we gather all of the votes together for every image.\n",
        "\n",
        "We achieve this on this chunk by doing the following:\n",
        "\n",
        "+ We loop for every hospital, getting the data of this hospital (`private_data`) and then training a model on it.\n",
        "  + This trained model (teacher) generates predictions on our data `my_data`.\n",
        "  + We also calculate the accuracy of every single teacher in our data. We do this for the purpose of the PATE analysis, because on a real setting we would not have any labels for our data.\n",
        "+ We gather all teacher votes into a matrix, the dimensions of it should be `(number_of_images x number_of_teachers)`\n"
      ]
    },
    {
      "cell_type": "code",
      "metadata": {
        "id": "m6SY6Tt9YW1U",
        "colab_type": "code",
        "colab": {
          "base_uri": "https://localhost:8080/",
          "height": 191
        },
        "outputId": "451d0e18-4468-41d2-9ed7-0241ed646569"
      },
      "source": [
        "device = torch.device(\"cuda\" if torch.cuda.is_available() else \"cpu\")\n",
        "\n",
        "hospitals = [\"S1\", \"S2\", \"S3\", \"S4\", \"S5\", \"S6\", \"S7\", \"S8\", \"S9\", \"S10\"]\n",
        "\n",
        "hospitals_preds = {}\n",
        "\n",
        "my_hospital = [\"S11\", \"S12\", \"S13\"]\n",
        "\n",
        "my_data = Mat_Dataset([\"Base\"], my_hospital)\n",
        "my_data_loader = DataLoader(my_data, batch_size=len(my_data), shuffle=False)\n",
        "\n",
        "for hospital in hospitals:\n",
        "  \n",
        "  print(f'Training teacher on {hospital} data')\n",
        "  \n",
        "  private_data = Mat_Dataset([\"Base\"], [hospital])\n",
        "  private_data_loader = DataLoader(private_data, batch_size=64, shuffle=True)\n",
        "  private_model = train_teacher(device, private_data_loader)\n",
        "  \n",
        "  accuracy = 0\n",
        "  private_model.to(device)\n",
        "  private_model.eval()\n",
        "  with torch.no_grad():\n",
        "      \n",
        "    for inputs, labels in my_data_loader:\n",
        "\n",
        "      inputs, labels = inputs.to(device), labels.to(device)\n",
        "      logps = private_model.forward(inputs)\n",
        "      ps = torch.exp(logps)\n",
        "      top_p, top_class = ps.topk(1, dim=1)\n",
        "      equals = top_class == labels.view(*top_class.shape)\n",
        "      accuracy += torch.mean(equals.type(torch.FloatTensor))\n",
        "      print(f\"- Accuracy on our data: {accuracy/len(my_data_loader):.3f}\")\n",
        "      hospitals_preds[hospital] = top_class\n",
        "    \n",
        "  "
      ],
      "execution_count": 11,
      "outputs": [
        {
          "output_type": "stream",
          "text": [
            "Accuracy 0.831\n",
            "Accuracy 0.877\n",
            "Accuracy 0.960\n",
            "Accuracy 0.889\n",
            "Accuracy 0.822\n",
            "Accuracy 0.891\n",
            "Accuracy 0.832\n",
            "Accuracy 0.866\n",
            "Accuracy 0.968\n",
            "Accuracy 0.873\n"
          ],
          "name": "stdout"
        }
      ]
    },
    {
      "cell_type": "code",
      "metadata": {
        "id": "JtPuIN2HGlR7",
        "colab_type": "code",
        "colab": {
          "base_uri": "https://localhost:8080/",
          "height": 34
        },
        "outputId": "f4a2df10-d519-4301-940e-c339437b7ae2"
      },
      "source": [
        "hospital_p = np.hstack([hospitals_preds.get(key).cpu() for key in hospitals_preds.keys()])\n",
        "hospital_p.shape"
      ],
      "execution_count": 14,
      "outputs": [
        {
          "output_type": "execute_result",
          "data": {
            "text/plain": [
              "(4324, 10)"
            ]
          },
          "metadata": {
            "tags": []
          },
          "execution_count": 14
        }
      ]
    },
    {
      "cell_type": "markdown",
      "metadata": {
        "id": "n_tJB6K2jS77",
        "colab_type": "text"
      },
      "source": [
        "If we simply apply plurality—use the label with the largest count—the ensemble’s decision may depend on a single teacher’s vote. Indeed, when two labels have a vote count differing by at most one, there is a tie: the aggregated output changes if one teacher makes a different prediction. We add random noise to the vote counts nj to introduce ambiguity:\n",
        "\n",
        "Comment on mechanism and laplace\n",
        "\n",
        "![Laplace Distribution](img/laplace_distribution)"
      ]
    },
    {
      "cell_type": "code",
      "metadata": {
        "id": "7FpVAOIChuHa",
        "colab_type": "code",
        "colab": {}
      },
      "source": [
        "# Number of classes in our setting\n",
        "num_positions = 3\n",
        "\n",
        "def hospitals_vote(hospital_p, epsilon=0.1):\n",
        "  new_labels = list()\n",
        "\n",
        "  for a_measurement in hospital_p:\n",
        "\n",
        "    label_counts = np.bincount(a_measurement, minlength=num_positions)\n",
        "\n",
        "    beta = 1 / epsilon\n",
        "\n",
        "    for i in range(len(label_counts)):\n",
        "      label_counts[i] += np.random.laplace(0, beta, 1)\n",
        "\n",
        "    new_label = np.argmax(label_counts)\n",
        "\n",
        "    new_labels.append(new_label)\n",
        "  \n",
        "  return np.array(new_labels)"
      ],
      "execution_count": 0,
      "outputs": []
    },
    {
      "cell_type": "code",
      "metadata": {
        "id": "V-DMo2MmnLRL",
        "colab_type": "code",
        "outputId": "66fc43db-2137-42af-e947-30584ef91db0",
        "colab": {
          "base_uri": "https://localhost:8080/",
          "height": 69
        }
      },
      "source": [
        "from syft.frameworks.torch.differential_privacy import pate\n",
        "\n",
        "indices = hospitals_vote(hospital_p, epsilon=0.01)\n",
        "data_dep_eps, data_ind_eps = pate.perform_analysis(teacher_preds=hospital_p.transpose(), indices=indices, noise_eps=0.01, delta=1e-5)\n",
        "print(\"Data Independent Epsilon:\", data_ind_eps)\n",
        "print(\"Data Dependent Epsilon:\", data_dep_eps)\n",
        "\n",
        "tr_d = my_data[:][1]\n",
        "sum(np.array(indices) == tr_d)/np.shape(np.array(indices) == tr_d)[0]"
      ],
      "execution_count": 16,
      "outputs": [
        {
          "output_type": "stream",
          "text": [
            "Data Independent Epsilon: 7.202231366242557\n",
            "Data Dependent Epsilon: 7.202231366242335\n"
          ],
          "name": "stdout"
        },
        {
          "output_type": "execute_result",
          "data": {
            "text/plain": [
              "0.3573080481036078"
            ]
          },
          "metadata": {
            "tags": []
          },
          "execution_count": 16
        }
      ]
    },
    {
      "cell_type": "code",
      "metadata": {
        "id": "Qvy4Lrtf2UtH",
        "colab_type": "code",
        "outputId": "f14c7fac-9ef6-4194-ca7f-e542e5511f89",
        "colab": {
          "base_uri": "https://localhost:8080/",
          "height": 34
        }
      },
      "source": [
        "indices = hospitals_vote(hospital_p, epsilon=0.5)\n",
        "sum(np.array(indices) == tr_d)/np.shape(np.array(indices) == tr_d)[0]"
      ],
      "execution_count": 17,
      "outputs": [
        {
          "output_type": "execute_result",
          "data": {
            "text/plain": [
              "0.8984736355226642"
            ]
          },
          "metadata": {
            "tags": []
          },
          "execution_count": 17
        }
      ]
    },
    {
      "cell_type": "code",
      "metadata": {
        "id": "6hHYcRha2WK4",
        "colab_type": "code",
        "outputId": "9e0b5f09-be6d-4e69-ecb3-5254b4fc7d7a",
        "colab": {
          "base_uri": "https://localhost:8080/",
          "height": 34
        }
      },
      "source": [
        "np.random.laplace(0, 1/0.1, 1)"
      ],
      "execution_count": 18,
      "outputs": [
        {
          "output_type": "execute_result",
          "data": {
            "text/plain": [
              "array([-4.05424543])"
            ]
          },
          "metadata": {
            "tags": []
          },
          "execution_count": 18
        }
      ]
    },
    {
      "cell_type": "markdown",
      "metadata": {
        "id": "gfAGaS19jb9g",
        "colab_type": "text"
      },
      "source": [
        "How does the number of teachers affect the privacy cost? Recall that the student uses a noisy label\n",
        "computed in (1) which has a parameter γ. To ensure that the noisy label is likely to be the correct\n",
        "one, the noise scale 1 should be small compared to the the additive gap between the two largest γ\n",
        "vales of nj .\n",
        "\n",
        "Since the gap itself increases with the number of teachers, having more teachers would\n",
        "lower the privacy cost."
      ]
    },
    {
      "cell_type": "code",
      "metadata": {
        "id": "vaoLtluX8dDH",
        "colab_type": "code",
        "colab": {
          "base_uri": "https://localhost:8080/",
          "height": 1000
        },
        "outputId": "b7e924ef-c7f4-489c-e313-3055533d01b6"
      },
      "source": [
        "device = torch.device(\"cuda\" if torch.cuda.is_available() else \"cpu\")\n",
        "print(f\"Working on: {device.type}\")\n",
        "\n",
        "hospitals = [\"S1\", \"S2\", \"S3\", \"S4\", \"S5\", \"S6\", \"S7\", \"S8\", \"S9\", \"S10\"]\n",
        "\n",
        "hospitals_preds = {}\n",
        "\n",
        "my_hospital = [\"S11\", \"S12\", \"S13\"]\n",
        "\n",
        "my_data = Mat_Dataset([\"Base\"], my_hospital)\n",
        "my_data_loader = DataLoader(my_data, batch_size=len(my_data), shuffle=False)\n",
        "\n",
        "class Mini_Dataset(torch.utils.data.Dataset):\n",
        "  def __init__(self, samples, labels):\n",
        "    self.samples = samples\n",
        "    self.labels = labels\n",
        "\n",
        "  def __len__(self):\n",
        "    return self.samples.shape[0]\n",
        "\n",
        "  def __getitem__(self, idx):\n",
        "    return self.samples[idx], self.labels[idx]\n",
        "\n",
        "for n_teachers in [10, 15, 30]:\n",
        "\n",
        "  for hospital in hospitals:\n",
        "    private_data = Mat_Dataset([\"Base\"], [hospital])\n",
        "    n_images = len(private_data)\n",
        "    batch_size = int(n_images/n_teachers)\n",
        "    private_data_loader = DataLoader(private_data, batch_size=batch_size, shuffle=True)\n",
        "\n",
        "    i = 0\n",
        "\n",
        "    for samples, labels in iter(private_data_loader):\n",
        "      mini_dataset = Mini_Dataset(samples, labels)\n",
        "      if len(mini_dataset) < batch_size:\n",
        "        continue\n",
        "      mini_data_loader = DataLoader(mini_dataset, batch_size=int(len(mini_dataset)/5), shuffle=True)\n",
        "      private_model = train_teacher(device, mini_data_loader)\n",
        "      accuracy = 0\n",
        "      private_model.to(device)\n",
        "      private_model.eval()\n",
        "      with torch.no_grad():\n",
        "\n",
        "        for inputs, labels in my_data_loader:\n",
        "\n",
        "          inputs, labels = inputs.to(device), labels.to(device)\n",
        "          logps = private_model.forward(inputs)\n",
        "          ps = torch.exp(logps)\n",
        "          top_p, top_class = ps.topk(1, dim=1)\n",
        "          equals = top_class == labels.view(*top_class.shape)\n",
        "          accuracy += torch.mean(equals.type(torch.FloatTensor))\n",
        "          #print(f\"Accuracy {accuracy/len(my_data_loader):.3f}, Hospital: {hospital}, Teacher: {i}\")\n",
        "          hospitals_preds[hospital + \"_\" +  str(i)] = top_class\n",
        "          i += 1\n",
        "\n",
        "  hospital_p = np.hstack([hospitals_preds.get(key).cpu() for key in hospitals_preds.keys()])\n",
        "  num_positions = 3\n",
        "\n",
        "  def hospitals_vote(hospital_p, epsilon=0.1):\n",
        "    new_labels = list()\n",
        "\n",
        "    for a_measurement in hospital_p:\n",
        "\n",
        "      label_counts = np.bincount(a_measurement, minlength=num_positions)\n",
        "\n",
        "      beta = 1 / epsilon\n",
        "\n",
        "      for i in range(len(label_counts)):\n",
        "        label_counts[i] += np.random.laplace(0, beta, 1)\n",
        "\n",
        "      new_label = np.argmax(label_counts)\n",
        "\n",
        "      new_labels.append(new_label)\n",
        "\n",
        "    return np.array(new_labels)\n",
        "\n",
        "  accuracies = []\n",
        "  data_independent_eps = []\n",
        "  data_dependent_eps = []\n",
        "  noises = np.arange(0.1, 0, -0.01)\n",
        "  for noise_eps in noises:\n",
        "    indices = hospitals_vote(hospital_p, epsilon=noise_eps)\n",
        "    data_dep_eps, data_ind_eps = pate.perform_analysis(teacher_preds=hospital_p.transpose(), indices=indices, noise_eps=noise_eps, delta=1e-5)\n",
        "    #print(\"Data Independent Epsilon:\", data_ind_eps)\n",
        "    #print(\"Data Dependent Epsilon:\", data_dep_eps)\n",
        "\n",
        "    tr_d = my_data[:][1]\n",
        "    accuracies.append(sum(np.array(indices) == tr_d)/np.shape(np.array(indices) == tr_d)[0])\n",
        "    data_dependent_eps.append(data_dep_eps)\n",
        "    data_independent_eps.append(data_ind_eps)\n",
        "\n",
        "  noises = 1/np.arange(0.1, 0, -0.01)\n",
        "\n",
        "  # Creates two subplots and unpacks the output array immediately\n",
        "\n",
        "  fig = plt.figure(figsize=(16,8))\n",
        "\n",
        "  fig.suptitle(f'Trade-off between accuracy and privacy using {n_teachers*10} teachers')\n",
        "\n",
        "  ax1 = fig.add_subplot(1, 3, 1)\n",
        "  plt.plot(noises, accuracies)\n",
        "  ax1.title.set_text(\"Accuracy\")\n",
        "  ax1.set_xlabel('b (Laplace distribution\\'s scale parameter)')\n",
        "  ax1.set_ylabel('Accuracy [%]')\n",
        "  ax2 = fig.add_subplot(1, 3, 2)\n",
        "  plt.plot(noises, data_independent_eps)\n",
        "  ax2.title.set_text(\"Data Independent Epsilon\")\n",
        "  ax2.set_xlabel('b (Laplace distribution\\'s scale parameter)')\n",
        "  ax2.set_ylabel('Epsilon')\n",
        "  ax3 = fig.add_subplot(1, 3, 3, sharey = ax2)\n",
        "  plt.plot(noises, data_dependent_eps)\n",
        "  ax3.title.set_text(\"Data Dependent Epsilon\")\n",
        "  ax3.set_xlabel('b (Laplace distribution\\'s scale parameter)')\n",
        "  ax3.set_ylabel('Epsilon')"
      ],
      "execution_count": 20,
      "outputs": [
        {
          "output_type": "stream",
          "text": [
            "Working on: cuda\n"
          ],
          "name": "stdout"
        },
        {
          "output_type": "display_data",
          "data": {
            "image/png": "[encoded data removed]",
            "text/plain": [
              "<Figure size 1152x576 with 3 Axes>"
            ]
          },
          "metadata": {
            "tags": []
          }
        },
        {
          "output_type": "display_data",
          "data": {
            "image/png": "[encoded data removed]",
            "text/plain": [
              "<Figure size 1152x576 with 3 Axes>"
            ]
          },
          "metadata": {
            "tags": []
          }
        },
        {
          "output_type": "display_data",
          "data": {
            "image/png": "[encoded data removed]",
            "text/plain": [
              "<Figure size 1152x576 with 3 Axes>"
            ]
          },
          "metadata": {
            "tags": []
          }
        }
      ]
    },
    {
      "cell_type": "code",
      "metadata": {
        "id": "dCbgH_IaSoOc",
        "colab_type": "code",
        "colab": {}
      },
      "source": [
        ""
      ],
      "execution_count": 0,
      "outputs": []
    }
  ]
}