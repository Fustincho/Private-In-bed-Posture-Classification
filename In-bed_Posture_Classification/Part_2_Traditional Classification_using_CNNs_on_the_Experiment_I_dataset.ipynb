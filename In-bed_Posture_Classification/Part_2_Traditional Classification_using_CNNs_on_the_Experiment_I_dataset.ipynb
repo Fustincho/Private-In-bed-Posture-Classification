{
  "nbformat": 4,
  "nbformat_minor": 0,
  "metadata": {
    "kernelspec": {
      "name": "python3",
      "display_name": "Python 3"
    },
    "language_info": {
      "codemirror_mode": {
        "name": "ipython",
        "version": 3
      },
      "file_extension": ".py",
      "mimetype": "text/x-python",
      "name": "python",
      "nbconvert_exporter": "python",
      "pygments_lexer": "ipython3",
      "version": "3.6.8"
    },
    "colab": {
      "name": "Part_01-A_simple_classification_task.ipynb",
      "version": "0.3.2",
      "provenance": [],
      "collapsed_sections": []
    },
    "accelerator": "GPU"
  },
  "cells": [
    {
      "cell_type": "code",
      "metadata": {
        "id": "ltgrGx6xpQg7",
        "colab_type": "code",
        "outputId": "50640809-4ebd-48e6-b677-1e4b0b1aa1a7",
        "colab": {
          "base_uri": "https://localhost:8080/",
          "height": 34
        }
      },
      "source": [
        "from google.colab import drive\n",
        "drive.mount('/content/drive/')"
      ],
      "execution_count": 0,
      "outputs": [
        {
          "output_type": "stream",
          "text": [
            "Drive already mounted at /content/drive/; to attempt to forcibly remount, call drive.mount(\"/content/drive/\", force_remount=True).\n"
          ],
          "name": "stdout"
        }
      ]
    },
    {
      "cell_type": "code",
      "metadata": {
        "id": "kB-TXvI0pVbN",
        "colab_type": "code",
        "outputId": "c9fdb6b2-cda2-47e8-8c51-84c979c1f0b4",
        "colab": {
          "base_uri": "https://localhost:8080/",
          "height": 52
        }
      },
      "source": [
        "import numpy as np\n",
        "import os\n",
        "\n",
        "os.getcwd()\n",
        "test_read = np.loadtxt(\"/content/drive/My Drive/Raw_Data/experiment-i/S1/3.txt\")\n",
        "\n",
        "print(type(test_read))\n",
        "test_read.shape"
      ],
      "execution_count": 0,
      "outputs": [
        {
          "output_type": "stream",
          "text": [
            "<class 'numpy.ndarray'>\n"
          ],
          "name": "stdout"
        },
        {
          "output_type": "execute_result",
          "data": {
            "text/plain": [
              "(90, 2048)"
            ]
          },
          "metadata": {
            "tags": []
          },
          "execution_count": 2
        }
      ]
    },
    {
      "cell_type": "markdown",
      "metadata": {
        "id": "BslPq4vFpQhJ",
        "colab_type": "text"
      },
      "source": [
        "The dimensions according to the paper are 32 x 64 (which is equal to 2048), meaning that maybe every row of the array is a recording from the mattress. Let's take a look:"
      ]
    },
    {
      "cell_type": "code",
      "metadata": {
        "id": "xpmfXamZpQhK",
        "colab_type": "code",
        "outputId": "d4b196d9-71e4-4055-db2f-dc49c1027668",
        "colab": {
          "base_uri": "https://localhost:8080/",
          "height": 286
        }
      },
      "source": [
        "import matplotlib.pyplot as plt\n",
        "\n",
        "plt.imshow(test_read[6,:].reshape(64,32))"
      ],
      "execution_count": 0,
      "outputs": [
        {
          "output_type": "execute_result",
          "data": {
            "text/plain": [
              "<matplotlib.image.AxesImage at 0x7f6815b11e10>"
            ]
          },
          "metadata": {
            "tags": []
          },
          "execution_count": 3
        },
        {
          "output_type": "display_data",
          "data": {
            "image/png": "[encoded data removed]",
            "text/plain": [
              "<Figure size 432x288 with 1 Axes>"
            ]
          },
          "metadata": {
            "tags": []
          }
        }
      ]
    },
    {
      "cell_type": "markdown",
      "metadata": {
        "id": "qQIp4Hh7pQhQ",
        "colab_type": "text"
      },
      "source": [
        "Somehow, the first two recordings are weird in all subjects, so we will ignore them."
      ]
    },
    {
      "cell_type": "code",
      "metadata": {
        "id": "_-viCcrlpQhS",
        "colab_type": "code",
        "outputId": "066417ff-933b-4f99-c16a-716913c4c987",
        "colab": {
          "base_uri": "https://localhost:8080/",
          "height": 378
        }
      },
      "source": [
        "\n",
        "fig, axes = plt.subplots(figsize=(10,6), ncols=2)\n",
        "for ii in range(2):\n",
        "    ax = axes[ii]\n",
        "    ax.imshow(test_read[ii,:].reshape(64,32))\n"
      ],
      "execution_count": 0,
      "outputs": [
        {
          "output_type": "display_data",
          "data": {
            "image/png": "[encoded data removed]",
            "text/plain": [
              "<Figure size 720x432 with 2 Axes>"
            ]
          },
          "metadata": {
            "tags": []
          }
        }
      ]
    },
    {
      "cell_type": "markdown",
      "metadata": {
        "id": "9dDh9VEvpQhX",
        "colab_type": "text"
      },
      "source": [
        "Data Creation\n",
        "\n",
        "\tData is collected using Vista Medical FSA SoftFlex 2048\n",
        "2.\tSize of pressure mat is 32*64. This is the raw data collected reporting numbers in range of [0-1000] for each sensor.\n",
        "3.\tSampling rate is 1Hz.\n",
        "4.\tEach file includes the data frames around 2-mins (around 120 frames).\n"
      ]
    },
    {
      "cell_type": "code",
      "metadata": {
        "id": "NAdR_-h8pQhY",
        "colab_type": "code",
        "colab": {}
      },
      "source": [
        "import torch\n",
        "\n",
        "path_exp_1 = \"/content/drive/My Drive//Raw_Data/experiment-i/\"\n",
        "positions = [\"justAPlaceholder\",\"supine\", \"right\", \"left\", \"right\", \"right\", \"left\", \"left\", \"supine\", \"supine\", \"supine\", \"supine\", \"supine\", \"right\", \"left\", \"supine\", \"supine\", \"supine\"]\n",
        "\n",
        "subjects_dict = {}\n",
        "\n",
        "\n",
        "Normalize = transforms.Compose([\n",
        "    transforms.ToPILImage(),\n",
        "    transforms.ToTensor()\n",
        "  ])\n",
        "\n",
        "for _, dirs, _ in os.walk(path_exp_1):\n",
        "  for directory in dirs:\n",
        "    # each directory is a subject\n",
        "    subject = directory\n",
        "    data = None\n",
        "    labels = None\n",
        "    \n",
        "    for _, _, files in os.walk(os.path.join(path_exp_1, directory)):\n",
        "      for file in files:\n",
        "        file_path = os.path.join(path_exp_1, directory, file)\n",
        "        with open(file_path, 'r') as f:\n",
        "          # Start from second recording, as the first two are corrupted\n",
        "          for line in f.read().splitlines()[2:]:\n",
        "            def token_position(x):\n",
        "              return {\n",
        "                'supine': 0,\n",
        "                'left': 1,\n",
        "                'right': 2,\n",
        "                'left_fetus': 1,\n",
        "                'right_fetus': 2\n",
        "              }[x]\n",
        "            \n",
        "            \n",
        "            raw_data = np.fromstring(line, dtype=float, sep='\\t')\n",
        "            file_data = np.round(raw_data*255/1000).astype(np.uint8) # Change the range from [0-1000] to [0-255]. This allows us to use tranforms later.\n",
        "            file_data = Normalize(file_data.reshape(64,32))\n",
        "            file_data = file_data.view(1, 64, 32)\n",
        "            file_label = token_position(positions[int(file[:-4])]) # Turn the file index into position list, and turn position list into reduced indices.\n",
        "            file_label = np.array([file_label])\n",
        "            \n",
        "            if data is None:\n",
        "              data = file_data\n",
        "            else:\n",
        "              data = np.concatenate((data, file_data), axis=0)\n",
        "\n",
        "            if labels is None:\n",
        "              labels = file_label\n",
        "            else:\n",
        "              labels = np.concatenate((labels, file_label), axis=0)\n",
        "              \n",
        "    subjects_dict[subject] = (torch.from_numpy(data), torch.from_numpy(labels))"
      ],
      "execution_count": 0,
      "outputs": []
    },
    {
      "cell_type": "code",
      "metadata": {
        "id": "397KnMbXHjmw",
        "colab_type": "code",
        "colab": {}
      },
      "source": [
        "import torchvision.transforms.functional as TF\n",
        "from torchvision import transforms\n",
        "\n",
        "\n",
        "path_exp_2 = \"/content/drive/My Drive/Raw_Data/experiment-ii/\"\n",
        "\n",
        "positions = {\n",
        "    \"B\":\"supine\",\n",
        "    \"1\":\"supine\",\n",
        "    \"C\":\"right\",\n",
        "    \"D\":\"left\",\n",
        "    \"E1\":\"right\",\n",
        "    \"E2\":\"right\",\n",
        "    \"E3\":\"left\",\n",
        "    \"E4\":\"left\",\n",
        "    \"E5\":\"right\",\n",
        "    \"E6\":\"left\",\n",
        "    \"F\":\"supine\",\n",
        "    \"G1\":\"supine\",\n",
        "    \"G2\":\"right\",\n",
        "    \"G3\":\"left\"\n",
        "}\n",
        "\n",
        "def token_position(x):\n",
        "  return {\n",
        "    'supine': 0,\n",
        "    'left': 1,\n",
        "    'right': 2\n",
        "  }[x]\n",
        "\n",
        "subjects_dict_air = {}\n",
        "subjects_dict_spo = {}\n",
        "\n",
        "def resize_and_rotate(image):\n",
        "  To_PIL_and_Resize = transforms.Compose([\n",
        "    transforms.ToPILImage(),\n",
        "    transforms.Resize((64, 32))\n",
        "  ])\n",
        "  rotated = TF.rotate(To_PIL_and_Resize(image), angle=180)\n",
        "  return transforms.ToTensor()(rotated)\n",
        "\n",
        "\n",
        "# each directory is a subject\n",
        "for _, subject_dirs, _ in os.walk(path_exp_2):\n",
        "  for subject in subject_dirs:\n",
        "    data = None\n",
        "    labels = None\n",
        "    \n",
        "    # each directory is a matresss\n",
        "    for _, mat_dirs, _ in os.walk(os.path.join(path_exp_2, subject)):\n",
        "      for mat in mat_dirs:\n",
        "        for _, _, files in os.walk(os.path.join(path_exp_2, subject, mat)):\n",
        "\n",
        "          for file in files:\n",
        "\n",
        "            file_path = os.path.join(path_exp_2, subject, mat, file)\n",
        "            raw_data = np.loadtxt(file_path)\n",
        "            file_data = np.round(raw_data*255/500).astype(np.uint8) # Change the range from [0-500] to [0-255]. This allows us to use tranforms later. \n",
        "            file_data = resize_and_rotate(file_data)\n",
        "            file_data = file_data.view(1, 64, 32)\n",
        "            \n",
        "            if file[-6] == \"E\" or file[-6] == \"G\":\n",
        "              file_label = positions[file[-6:-4]]\n",
        "            else:\n",
        "              file_label = positions[file[-6]]\n",
        "            \n",
        "            file_label = token_position(file_label)\n",
        "            file_label = np.array([file_label])           \n",
        "\n",
        "            if data is None:\n",
        "              data = file_data\n",
        "            else:\n",
        "              data = np.concatenate((data, file_data), axis=0)\n",
        "\n",
        "            if labels is None:\n",
        "              labels = file_label\n",
        "            else:\n",
        "              labels = np.concatenate((labels, file_label), axis=0)\n",
        "        \n",
        "        if mat == \"Air_Mat\":                        \n",
        "          subjects_dict_air[subject] = (torch.from_numpy(data), torch.from_numpy(labels))\n",
        "        else:\n",
        "          subjects_dict_spo[subject] = (torch.from_numpy(data), torch.from_numpy(labels))\n",
        "        \n",
        "        data = None\n",
        "        labels = None"
      ],
      "execution_count": 0,
      "outputs": []
    },
    {
      "cell_type": "code",
      "metadata": {
        "id": "zz97Vl2IpQhc",
        "colab_type": "code",
        "colab": {}
      },
      "source": [
        "datasets = {\n",
        "    \"Base\":subjects_dict,\n",
        "    \"Spo\":subjects_dict_spo,\n",
        "    \"Air\":subjects_dict_air\n",
        "}\n",
        "\n",
        "from torch.utils.data import Dataset\n",
        "\n",
        "class Mat_Dataset(Dataset):\n",
        "  def __init__(self, mats, Subject_IDs):\n",
        "    \n",
        "    self.samples = []\n",
        "    self.labels = []\n",
        "    \n",
        "    for mat in mats:\n",
        "      data = datasets[mat]\n",
        "      self.samples.append(np.vstack([data.get(key)[0] for key in Subject_IDs]))\n",
        "      self.labels.append(np.hstack([data.get(key)[1] for key in Subject_IDs]))\n",
        "      \n",
        "    self.samples = np.vstack(self.samples)\n",
        "    self.labels = np.hstack(self.labels)\n",
        "    \n",
        "  def __len__(self):\n",
        "    return self.samples.shape[0]\n",
        "      \n",
        "  def __getitem__(self, idx):\n",
        "    return self.samples[idx], self.labels[idx]"
      ],
      "execution_count": 0,
      "outputs": []
    },
    {
      "cell_type": "code",
      "metadata": {
        "id": "GmDBDXufY4l4",
        "colab_type": "code",
        "outputId": "66973563-6bc0-4ca1-b3c6-bf5777d32815",
        "colab": {
          "base_uri": "https://localhost:8080/",
          "height": 34
        }
      },
      "source": [
        "len(Mat_Dataset([\"Spo\"], [\"S1\"]))"
      ],
      "execution_count": 0,
      "outputs": [
        {
          "output_type": "execute_result",
          "data": {
            "text/plain": [
              "29"
            ]
          },
          "metadata": {
            "tags": []
          },
          "execution_count": 141
        }
      ]
    },
    {
      "cell_type": "code",
      "metadata": {
        "id": "c7gGR-vAZS9H",
        "colab_type": "code",
        "outputId": "4e0a6374-e0fc-40ca-9344-dc8f6589d621",
        "colab": {
          "base_uri": "https://localhost:8080/",
          "height": 34
        }
      },
      "source": [
        "subjects_dict_spo[\"S1\"][0][1].shape"
      ],
      "execution_count": 0,
      "outputs": [
        {
          "output_type": "execute_result",
          "data": {
            "text/plain": [
              "torch.Size([64, 32])"
            ]
          },
          "metadata": {
            "tags": []
          },
          "execution_count": 142
        }
      ]
    },
    {
      "cell_type": "markdown",
      "metadata": {
        "id": "2n8TBLJlpQhk",
        "colab_type": "text"
      },
      "source": [
        "PyTorch gives you the freedom to pretty much do anything with the Dataset class so long as you override two of the subclass functions:\n",
        "\n",
        "+ the __len__ function which returns the size of the dataset, and\n",
        "+ the __getitem__ function which returns a sample from the dataset given an index."
      ]
    },
    {
      "cell_type": "code",
      "metadata": {
        "id": "L1M2tm0_pQhq",
        "colab_type": "code",
        "colab": {}
      },
      "source": [
        "from torch.utils.data import random_split\n",
        "from torch.utils.data import DataLoader\n",
        "\n",
        "data_exp_1 = Mat_Dataset([\"Base\"], [key for key in subjects_dict.keys()])\n",
        "\n",
        "trainset_exp_1, valset_exp_1 = random_split(data_exp_1, [round(len(data_exp_1)*0.70), len(data_exp_1) - round(len(data_exp_1)*0.70)])\n",
        "\n",
        "trainloader = DataLoader(trainset_exp_1, batch_size=64, shuffle=True)\n",
        "testloader = DataLoader(valset_exp_1, batch_size=64, shuffle=False)"
      ],
      "execution_count": 0,
      "outputs": []
    },
    {
      "cell_type": "code",
      "metadata": {
        "id": "C2vMiFmAJkoc",
        "colab_type": "code",
        "outputId": "62d681bc-8f50-4e36-f860-ea7a30a46747",
        "colab": {
          "base_uri": "https://localhost:8080/",
          "height": 191
        }
      },
      "source": [
        "import torch\n",
        "from torch import nn\n",
        "import torch.nn.functional as F\n",
        "\n",
        "class Network(nn.Module):\n",
        "    def __init__(self):\n",
        "        super().__init__()\n",
        "        \n",
        "        #Input channels = 1, output channels = 6\n",
        "        self.conv1 = torch.nn.Conv2d(1, 6, kernel_size=3, stride=1, padding=1)\n",
        "        self.conv2 = torch.nn.Conv2d(6, 18, kernel_size=3, stride=1, padding=1)\n",
        "        \n",
        "        self.pool = torch.nn.MaxPool2d(kernel_size=2, stride=2, padding=0)\n",
        "        \n",
        "        \n",
        "        # Inputs to hidden layer linear transformation\n",
        "        self.h1 = nn.Linear(18 * 16 * 8, 392)\n",
        "        self.h2 = nn.Linear(392, 98)\n",
        "        \n",
        "        # Output layer, 3 neurons - one for each position\n",
        "        self.output = nn.Linear(98, 3)\n",
        "        \n",
        "        # Define sigmoid activation and softmax output \n",
        "        self.relu = nn.ReLU()\n",
        "        self.logsoftmax = nn.LogSoftmax(dim=1)\n",
        "        \n",
        "    def forward(self, x):\n",
        "        x = x.float()\n",
        "        # Add a \"channel dimension\"\n",
        "        x = x.unsqueeze(1)\n",
        "        \n",
        "        #Computes the activation of the first convolution\n",
        "        #Size changes from (1, 64, 32) to (6, 64, 32)\n",
        "        \n",
        "        x = F.relu(self.conv1(x))\n",
        "\n",
        "        # LOOK HERE\n",
        "        #Size changes from (6, 32, 16) to (6, 32, 16)\n",
        "        x = self.pool(x)\n",
        "\n",
        "        \n",
        "        #Size changes from (6, 32, 16) to (18, 32, 16)\n",
        "        x = F.relu(self.conv2(x))\n",
        "\n",
        "        \n",
        "        #Size changes from (18, 32, 16) to (18, 16, 8)\n",
        "        x = self.pool(x)\n",
        "        \n",
        "        \n",
        "        #Reshape data to input to the input layer of the neural net\n",
        "        #Size changes from (18, 16, 16) to (1, 4608)\n",
        "        \n",
        "        x = x.view(x.shape[0], -1)\n",
        "        # Pass the input tensor through each of our operations\n",
        "        x = self.h1(x)\n",
        "\n",
        "        x = self.relu(x)\n",
        "        x = self.h2(x)\n",
        "\n",
        "        x = self.relu(x)\n",
        "        x = self.output(x)\n",
        "\n",
        "        x = self.logsoftmax(x)\n",
        "        \n",
        "        return x\n",
        "      \n",
        "model = Network()\n",
        "model"
      ],
      "execution_count": 0,
      "outputs": [
        {
          "output_type": "execute_result",
          "data": {
            "text/plain": [
              "Network(\n",
              "  (conv1): Conv2d(1, 6, kernel_size=(3, 3), stride=(1, 1), padding=(1, 1))\n",
              "  (conv2): Conv2d(6, 18, kernel_size=(3, 3), stride=(1, 1), padding=(1, 1))\n",
              "  (pool): MaxPool2d(kernel_size=2, stride=2, padding=0, dilation=1, ceil_mode=False)\n",
              "  (h1): Linear(in_features=2304, out_features=392, bias=True)\n",
              "  (h2): Linear(in_features=392, out_features=98, bias=True)\n",
              "  (output): Linear(in_features=98, out_features=3, bias=True)\n",
              "  (relu): ReLU()\n",
              "  (logsoftmax): LogSoftmax()\n",
              ")"
            ]
          },
          "metadata": {
            "tags": []
          },
          "execution_count": 262
        }
      ]
    },
    {
      "cell_type": "code",
      "metadata": {
        "id": "MQpTAIUfo6p7",
        "colab_type": "code",
        "outputId": "12ae64e4-b628-433a-9ddc-78b4bf1d4a2e",
        "colab": {
          "base_uri": "https://localhost:8080/",
          "height": 191
        }
      },
      "source": [
        "import torch\n",
        "from torch import nn\n",
        "import torch.nn.functional as F\n",
        "\n",
        "class Network(nn.Module):\n",
        "    def __init__(self):\n",
        "        super().__init__()\n",
        "        \n",
        "        #Input channels = 1, output channels = 6\n",
        "        self.conv1 = torch.nn.Conv2d(1, 6, kernel_size=3, stride=1, padding=1)\n",
        "        self.conv2 = torch.nn.Conv2d(6, 18, kernel_size=3, stride=1, padding=1)\n",
        "        \n",
        "        self.pool = torch.nn.MaxPool2d(kernel_size=4, stride=2, padding=0)\n",
        "        \n",
        "        \n",
        "        # Inputs to hidden layer linear transformation\n",
        "        self.h1 = nn.Linear(1512, 392)\n",
        "        self.h2 = nn.Linear(392, 98)\n",
        "        \n",
        "        # Output layer, 3 neurons - one for each position\n",
        "        self.output = nn.Linear(98, 3)\n",
        "        \n",
        "        # Define sigmoid activation and softmax output \n",
        "        self.relu = nn.ReLU()\n",
        "        self.logsoftmax = nn.LogSoftmax(dim=1)\n",
        "        \n",
        "    def forward(self, x):\n",
        "        x = x.float()\n",
        "        # Add a \"channel dimension\"\n",
        "        x = x.unsqueeze(1)\n",
        "        \n",
        "        #Computes the activation of the first convolution\n",
        "        #Size changes from (1, 64, 32) to (6, 64, 32)\n",
        "        x = F.relu(self.conv1(x))\n",
        "\n",
        "        #Size changes from (6, 32, 16) to (6, 16, 8)\n",
        "        x = self.pool(x)\n",
        "\n",
        "        #Size changes from (6, 16, 8) to (18, 16, 8)\n",
        "        x = F.relu(self.conv2(x))\n",
        "\n",
        "        #Size changes from (18, 16, 8) to (18, 8, 4)\n",
        "        x = self.pool(x)\n",
        "\n",
        "        #Reshape data to input to the input layer of the neural net\n",
        "        #Size changes from (18, 16, 16) to (1, 4608)\n",
        "        \n",
        "        x = x.view(x.shape[0], -1)\n",
        "        # Pass the input tensor through each of our operations\n",
        "        x = self.h1(x)\n",
        "\n",
        "        x = self.relu(x)\n",
        "        x = self.h2(x)\n",
        "\n",
        "        x = self.relu(x)\n",
        "        x = self.output(x)\n",
        "\n",
        "        x = self.logsoftmax(x)\n",
        "        \n",
        "        return x\n",
        "      \n",
        "model = Network()\n",
        "model"
      ],
      "execution_count": 0,
      "outputs": [
        {
          "output_type": "execute_result",
          "data": {
            "text/plain": [
              "Network(\n",
              "  (conv1): Conv2d(1, 6, kernel_size=(3, 3), stride=(1, 1), padding=(1, 1))\n",
              "  (conv2): Conv2d(6, 18, kernel_size=(3, 3), stride=(1, 1), padding=(1, 1))\n",
              "  (pool): MaxPool2d(kernel_size=4, stride=2, padding=0, dilation=1, ceil_mode=False)\n",
              "  (h1): Linear(in_features=1512, out_features=392, bias=True)\n",
              "  (h2): Linear(in_features=392, out_features=98, bias=True)\n",
              "  (output): Linear(in_features=98, out_features=3, bias=True)\n",
              "  (relu): ReLU()\n",
              "  (logsoftmax): LogSoftmax()\n",
              ")"
            ]
          },
          "metadata": {
            "tags": []
          },
          "execution_count": 261
        }
      ]
    },
    {
      "cell_type": "code",
      "metadata": {
        "id": "MwCPYOpTQmhH",
        "colab_type": "code",
        "outputId": "3bea6942-af79-4f48-e19a-f53a3c417dca",
        "colab": {
          "base_uri": "https://localhost:8080/",
          "height": 34
        }
      },
      "source": [
        "device = torch.device(\"cuda\" if torch.cuda.is_available() else \"cpu\")\n",
        "device"
      ],
      "execution_count": 0,
      "outputs": [
        {
          "output_type": "execute_result",
          "data": {
            "text/plain": [
              "device(type='cuda')"
            ]
          },
          "metadata": {
            "tags": []
          },
          "execution_count": 263
        }
      ]
    },
    {
      "cell_type": "code",
      "metadata": {
        "id": "LeFk_AAHpQhy",
        "colab_type": "code",
        "outputId": "d1be4a07-3747-434f-a3a6-8108209a32cc",
        "colab": {
          "base_uri": "https://localhost:8080/",
          "height": 191
        }
      },
      "source": [
        "from torch import optim\n",
        "\n",
        "criterion = nn.NLLLoss()\n",
        "\n",
        "optimizer = optim.Adam(model.parameters(), lr = 0.01)\n",
        "\n",
        "model.to(device)"
      ],
      "execution_count": 0,
      "outputs": [
        {
          "output_type": "execute_result",
          "data": {
            "text/plain": [
              "Network(\n",
              "  (conv1): Conv2d(1, 6, kernel_size=(3, 3), stride=(1, 1), padding=(1, 1))\n",
              "  (conv2): Conv2d(6, 18, kernel_size=(3, 3), stride=(1, 1), padding=(1, 1))\n",
              "  (pool): MaxPool2d(kernel_size=2, stride=2, padding=0, dilation=1, ceil_mode=False)\n",
              "  (h1): Linear(in_features=2304, out_features=392, bias=True)\n",
              "  (h2): Linear(in_features=392, out_features=98, bias=True)\n",
              "  (output): Linear(in_features=98, out_features=3, bias=True)\n",
              "  (relu): ReLU()\n",
              "  (logsoftmax): LogSoftmax()\n",
              ")"
            ]
          },
          "metadata": {
            "tags": []
          },
          "execution_count": 264
        }
      ]
    },
    {
      "cell_type": "code",
      "metadata": {
        "id": "PJkxjaWNQoBT",
        "colab_type": "code",
        "outputId": "ab451fb3-a994-40be-c690-cbd3221b3046",
        "colab": {
          "base_uri": "https://localhost:8080/",
          "height": 547
        }
      },
      "source": [
        "epochs = 15\n",
        "running_loss = 0\n",
        "\n",
        "torch.manual_seed(123)\n",
        "\n",
        "train_losses, test_losses = [], []\n",
        "\n",
        "for epoch in range(epochs):\n",
        "  for inputs, labels in trainloader:\n",
        "  \n",
        "    inputs, labels = inputs.to(device), labels.to(device)\n",
        "  \n",
        "    optimizer.zero_grad()\n",
        "\n",
        "    logps = model.forward(inputs)\n",
        "    loss = criterion(logps, labels)\n",
        "    loss.backward()\n",
        "    optimizer.step()\n",
        "\n",
        "    running_loss += loss.item()\n",
        "\n",
        "  else:\n",
        "    \n",
        "    test_loss = 0\n",
        "    accuracy = 0\n",
        "    model.eval()\n",
        "    \n",
        "    with torch.no_grad():\n",
        "      for inputs, labels in testloader:\n",
        "        inputs, labels = inputs.to(device), labels.to(device)\n",
        "        logps = model.forward(inputs)\n",
        "        test_loss += criterion(logps, labels)\n",
        "        \n",
        "        ps = torch.exp(logps)\n",
        "        top_p, top_class = ps.topk(1, dim=1)\n",
        "        equals = top_class == labels.view(*top_class.shape)\n",
        "        accuracy += torch.mean(equals.type(torch.FloatTensor))\n",
        "    \n",
        "    train_losses.append(running_loss/len(trainloader))\n",
        "    test_losses.append(test_loss/len(testloader))\n",
        "        \n",
        "    print(f\"Epoch {epoch+1}/{epochs}.. \"\n",
        "          f\"Train loss: {running_loss/len(trainloader):.3f}.. \"\n",
        "          f\"Test loss: {test_loss/len(testloader):.3f}.. \"\n",
        "          f\"Test accuracy: {accuracy/len(testloader):.3f}\")\n",
        "    running_loss = 0\n",
        "    model.train()\n",
        "    \n",
        "    \n",
        "plt.plot(train_losses, label='Training loss')\n",
        "plt.plot(test_losses, label='Validation loss')\n",
        "plt.legend(frameon=False)"
      ],
      "execution_count": 0,
      "outputs": [
        {
          "output_type": "stream",
          "text": [
            "Epoch 1/15.. Train loss: 0.179.. Test loss: 0.005.. Test accuracy: 0.999\n",
            "Epoch 2/15.. Train loss: 0.006.. Test loss: 0.003.. Test accuracy: 1.000\n",
            "Epoch 3/15.. Train loss: 0.001.. Test loss: 0.001.. Test accuracy: 1.000\n",
            "Epoch 4/15.. Train loss: 0.012.. Test loss: 0.008.. Test accuracy: 0.998\n",
            "Epoch 5/15.. Train loss: 0.002.. Test loss: 0.000.. Test accuracy: 1.000\n",
            "Epoch 6/15.. Train loss: 0.018.. Test loss: 0.001.. Test accuracy: 1.000\n",
            "Epoch 7/15.. Train loss: 0.003.. Test loss: 0.002.. Test accuracy: 1.000\n",
            "Epoch 8/15.. Train loss: 0.003.. Test loss: 0.001.. Test accuracy: 1.000\n",
            "Epoch 9/15.. Train loss: 0.002.. Test loss: 0.004.. Test accuracy: 0.999\n",
            "Epoch 10/15.. Train loss: 0.004.. Test loss: 0.001.. Test accuracy: 1.000\n",
            "Epoch 11/15.. Train loss: 0.000.. Test loss: 0.001.. Test accuracy: 1.000\n",
            "Epoch 12/15.. Train loss: 0.000.. Test loss: 0.001.. Test accuracy: 1.000\n",
            "Epoch 13/15.. Train loss: 0.000.. Test loss: 0.001.. Test accuracy: 1.000\n",
            "Epoch 14/15.. Train loss: 0.000.. Test loss: 0.001.. Test accuracy: 1.000\n",
            "Epoch 15/15.. Train loss: 0.000.. Test loss: 0.001.. Test accuracy: 1.000\n"
          ],
          "name": "stdout"
        },
        {
          "output_type": "execute_result",
          "data": {
            "text/plain": [
              "<matplotlib.legend.Legend at 0x7f67ae0f6fd0>"
            ]
          },
          "metadata": {
            "tags": []
          },
          "execution_count": 265
        },
        {
          "output_type": "display_data",
          "data": {
            "image/png": "[encoded data removed]",
            "text/plain": [
              "<Figure size 432x288 with 1 Axes>"
            ]
          },
          "metadata": {
            "tags": []
          }
        }
      ]
    },
    {
      "cell_type": "code",
      "metadata": {
        "id": "K2_lEbrrh-HW",
        "colab_type": "code",
        "colab": {}
      },
      "source": [
        "def view_classify(img, ps):\n",
        "    ''' Function for viewing an image and it's predicted classes.\n",
        "    '''\n",
        "    ps = ps.data.numpy().squeeze()\n",
        "\n",
        "    fig, (ax1, ax2) = plt.subplots(figsize=(6,9), ncols=2)\n",
        "    ax1.imshow(img.resize_(1, 64, 32).numpy().squeeze())\n",
        "    ax1.axis('off')\n",
        "    ax2.barh(np.arange(5), ps)\n",
        "    ax2.set_aspect(0.1)\n",
        "    ax2.set_yticks(np.arange(5))\n",
        "  \n",
        "    ax2.set_yticklabels(['supine', 'left', 'right', 'left_fetus', 'right_fetus'], size='small');\n",
        "    ax2.set_title('Class Probability')\n",
        "    ax2.set_xlim(0, 1.1)\n",
        "\n",
        "    plt.tight_layout()\n",
        "\n",
        "for inputs, labels in trainloader:\n",
        "  inputs, labels = inputs.to(device), labels.to(device)\n",
        "  view_classify(inputs[0].unsqueeze(0).cpu(), torch.exp(model.forward(inputs[0].unsqueeze(0))).cpu())\n"
      ],
      "execution_count": 0,
      "outputs": []
    },
    {
      "cell_type": "code",
      "metadata": {
        "id": "4TXW5cECgLZx",
        "colab_type": "code",
        "outputId": "b00cc362-5d35-4f3f-88e4-e952df0e44f9",
        "colab": {
          "base_uri": "https://localhost:8080/",
          "height": 34
        }
      },
      "source": [
        "new_datas = Mat_Dataset([\"Spo\", \"Air\"], subjects_dict_spo.keys())\n",
        "\n",
        "loader = DataLoader(new_datas, batch_size=64, shuffle=True)\n",
        "accuracy = 0\n",
        "\n",
        "model.eval()\n",
        "with torch.no_grad():\n",
        "  for inputs, labels in loader:\n",
        "    inputs, labels = inputs.to(device), labels.to(device)\n",
        "    logps = model.forward(inputs)\n",
        "    \n",
        "    ps = torch.exp(logps)\n",
        "    top_p, top_class = ps.topk(1, dim=1)\n",
        "    equals = top_class == labels.view(*top_class.shape)\n",
        "    accuracy += torch.mean(equals.type(torch.FloatTensor))\n",
        "\n",
        "print(f\"Test accuracy: {accuracy/len(loader):.3f}\")"
      ],
      "execution_count": 0,
      "outputs": [
        {
          "output_type": "stream",
          "text": [
            "Test accuracy: 0.568\n"
          ],
          "name": "stdout"
        }
      ]
    },
    {
      "cell_type": "code",
      "metadata": {
        "id": "8oSjeybkizOb",
        "colab_type": "code",
        "outputId": "32a8aa0d-c39b-4ceb-e24c-197210e057d6",
        "colab": {
          "base_uri": "https://localhost:8080/",
          "height": 321
        }
      },
      "source": [
        "\n",
        "ins = inputs[i]\n",
        "\n",
        "print(torch.exp(model.forward(ins.unsqueeze(0))))\n",
        "\n",
        "myimage = ins.cpu().float()\n",
        "plt.imshow(myimage.cpu())\n",
        "\n",
        "print(labels[i])\n",
        "i = i + 1"
      ],
      "execution_count": 0,
      "outputs": [
        {
          "output_type": "stream",
          "text": [
            "tensor([[1.0000e+00, 8.8904e-22, 2.5797e-20]], device='cuda:0',\n",
            "       grad_fn=<ExpBackward>)\n",
            "tensor(1, device='cuda:0')\n"
          ],
          "name": "stdout"
        },
        {
          "output_type": "display_data",
          "data": {
            "image/png": "[encoded data removed]",
            "text/plain": [
              "<Figure size 432x288 with 1 Axes>"
            ]
          },
          "metadata": {
            "tags": []
          }
        }
      ]
    },
    {
      "cell_type": "code",
      "metadata": {
        "id": "t89_-uYc5WL5",
        "colab_type": "code",
        "outputId": "bab14c27-9f76-4bf0-bf20-b64f6a65ed90",
        "colab": {
          "base_uri": "https://localhost:8080/",
          "height": 34
        }
      },
      "source": [
        "labels[3]"
      ],
      "execution_count": 0,
      "outputs": [
        {
          "output_type": "execute_result",
          "data": {
            "text/plain": [
              "tensor(2, device='cuda:0')"
            ]
          },
          "metadata": {
            "tags": []
          },
          "execution_count": 273
        }
      ]
    },
    {
      "cell_type": "code",
      "metadata": {
        "id": "ZqyhoWG6mwxP",
        "colab_type": "code",
        "outputId": "fcdf3a8e-5a6f-41f4-ef7e-3a333120efed",
        "colab": {
          "base_uri": "https://localhost:8080/",
          "height": 34
        }
      },
      "source": [
        "labels[2]"
      ],
      "execution_count": 0,
      "outputs": [
        {
          "output_type": "execute_result",
          "data": {
            "text/plain": [
              "tensor(1, device='cuda:0')"
            ]
          },
          "metadata": {
            "tags": []
          },
          "execution_count": 155
        }
      ]
    },
    {
      "cell_type": "code",
      "metadata": {
        "id": "q0YrZSzRkppu",
        "colab_type": "code",
        "outputId": "2ab9feb5-bcc0-4aa4-dfe0-8b795d371682",
        "colab": {
          "base_uri": "https://localhost:8080/",
          "height": 52
        }
      },
      "source": [
        "model.forward(subjects_dict[\"S1\"][0][1].unsqueeze(0).cuda())"
      ],
      "execution_count": 0,
      "outputs": [
        {
          "output_type": "execute_result",
          "data": {
            "text/plain": [
              "tensor([[  0.0000, -43.9413, -43.8685]], device='cuda:0',\n",
              "       grad_fn=<LogSoftmaxBackward>)"
            ]
          },
          "metadata": {
            "tags": []
          },
          "execution_count": 156
        }
      ]
    },
    {
      "cell_type": "code",
      "metadata": {
        "id": "WDo9EEFbk911",
        "colab_type": "code",
        "outputId": "60ff0908-1fb6-43eb-adbd-1b88775377cc",
        "colab": {
          "base_uri": "https://localhost:8080/",
          "height": 139
        }
      },
      "source": [
        "subjects_dict[\"S1\"][0][1]"
      ],
      "execution_count": 0,
      "outputs": [
        {
          "output_type": "execute_result",
          "data": {
            "text/plain": [
              "tensor([[0.0000, 0.0000, 0.0000,  ..., 0.0000, 0.0000, 0.0000],\n",
              "        [0.0039, 0.0039, 0.0000,  ..., 0.0000, 0.0000, 0.0000],\n",
              "        [0.0000, 0.0039, 0.0000,  ..., 0.0000, 0.0000, 0.0000],\n",
              "        ...,\n",
              "        [0.0000, 0.0000, 0.0000,  ..., 0.0000, 0.0000, 0.0000],\n",
              "        [0.0000, 0.0000, 0.0000,  ..., 0.0000, 0.0000, 0.0000],\n",
              "        [0.0000, 0.0000, 0.0000,  ..., 0.0000, 0.0000, 0.0000]])"
            ]
          },
          "metadata": {
            "tags": []
          },
          "execution_count": 157
        }
      ]
    },
    {
      "cell_type": "code",
      "metadata": {
        "id": "V3CdpEP0lBKA",
        "colab_type": "code",
        "outputId": "fbb8de48-55df-4a7b-fcb3-0abca1bb61f7",
        "colab": {
          "base_uri": "https://localhost:8080/",
          "height": 139
        }
      },
      "source": [
        "inputs[2].cpu()"
      ],
      "execution_count": 0,
      "outputs": [
        {
          "output_type": "execute_result",
          "data": {
            "text/plain": [
              "tensor([[0.1922, 0.1373, 0.1137,  ..., 0.0863, 0.0863, 0.0863],\n",
              "        [0.1373, 0.1059, 0.0902,  ..., 0.0941, 0.0902, 0.0980],\n",
              "        [0.1333, 0.1137, 0.0980,  ..., 0.1255, 0.1137, 0.0941],\n",
              "        ...,\n",
              "        [0.0902, 0.0824, 0.0863,  ..., 0.0824, 0.0863, 0.0941],\n",
              "        [0.0980, 0.0863, 0.0863,  ..., 0.0902, 0.0824, 0.0824],\n",
              "        [0.0941, 0.0902, 0.0863,  ..., 0.0902, 0.0863, 0.0863]])"
            ]
          },
          "metadata": {
            "tags": []
          },
          "execution_count": 158
        }
      ]
    },
    {
      "cell_type": "code",
      "metadata": {
        "id": "Yms8W09v1rfB",
        "colab_type": "code",
        "outputId": "1d5a6f22-9493-4aa6-ed76-551d2ecfa29d",
        "colab": {
          "base_uri": "https://localhost:8080/",
          "height": 286
        }
      },
      "source": [
        "plt.imshow(subjects_dict[\"S1\"][0][1])"
      ],
      "execution_count": 0,
      "outputs": [
        {
          "output_type": "execute_result",
          "data": {
            "text/plain": [
              "<matplotlib.image.AxesImage at 0x7f67ae291cf8>"
            ]
          },
          "metadata": {
            "tags": []
          },
          "execution_count": 113
        },
        {
          "output_type": "display_data",
          "data": {
            "image/png": "[encoded data removed]",
            "text/plain": [
              "<Figure size 432x288 with 1 Axes>"
            ]
          },
          "metadata": {
            "tags": []
          }
        }
      ]
    },
    {
      "cell_type": "code",
      "metadata": {
        "id": "jkRgMfyDxpjC",
        "colab_type": "code",
        "colab": {}
      },
      "source": [
        "plt.imshow(trans(subjects_dict[\"S1\"][0][1]).view(64,32))"
      ],
      "execution_count": 0,
      "outputs": []
    },
    {
      "cell_type": "code",
      "metadata": {
        "id": "NM1Yb-_iylC9",
        "colab_type": "code",
        "outputId": "92552610-3c4c-4efd-f626-a351021e5910",
        "colab": {
          "base_uri": "https://localhost:8080/",
          "height": 139
        }
      },
      "source": [
        "trans(myimage).view(64,32)"
      ],
      "execution_count": 0,
      "outputs": [
        {
          "output_type": "execute_result",
          "data": {
            "text/plain": [
              "tensor([[0., 0., 0.,  ..., 0., 0., 0.],\n",
              "        [0., 0., 0.,  ..., 0., 0., 0.],\n",
              "        [0., 0., 0.,  ..., 0., 0., 0.],\n",
              "        ...,\n",
              "        [0., 0., 0.,  ..., 0., 0., 0.],\n",
              "        [0., 0., 0.,  ..., 0., 0., 0.],\n",
              "        [0., 0., 0.,  ..., 0., 0., 0.]])"
            ]
          },
          "metadata": {
            "tags": []
          },
          "execution_count": 16
        }
      ]
    },
    {
      "cell_type": "code",
      "metadata": {
        "id": "HSmcbCh0z4E8",
        "colab_type": "code",
        "outputId": "95084c30-4d46-4f0a-aaa6-0d9f71e77c70",
        "colab": {
          "base_uri": "https://localhost:8080/",
          "height": 139
        }
      },
      "source": [
        "myimage"
      ],
      "execution_count": 0,
      "outputs": [
        {
          "output_type": "execute_result",
          "data": {
            "text/plain": [
              "tensor([[0., 0., 0.,  ..., 0., 0., 0.],\n",
              "        [0., 0., 0.,  ..., 0., 0., 0.],\n",
              "        [0., 0., 0.,  ..., 0., 0., 0.],\n",
              "        ...,\n",
              "        [0., 0., 0.,  ..., 0., 0., 0.],\n",
              "        [0., 0., 0.,  ..., 0., 0., 0.],\n",
              "        [0., 0., 0.,  ..., 0., 0., 0.]])"
            ]
          },
          "metadata": {
            "tags": []
          },
          "execution_count": 17
        }
      ]
    },
    {
      "cell_type": "code",
      "metadata": {
        "id": "TCqboXINu2dL",
        "colab_type": "code",
        "outputId": "d87cfd13-1ede-4169-a9aa-0a56a948c2ff",
        "colab": {
          "base_uri": "https://localhost:8080/",
          "height": 286
        }
      },
      "source": [
        "test_read = np.loadtxt(\"/content/drive/My Drive/Raw_Data/experiment-ii/S3/Sponge_Mat/Matrix_Sponge_B2.txt\")\n",
        "test_read = np.round(test_read*255/500).astype(np.uint8)\n",
        "\n",
        "plt.imshow(test_read)\n"
      ],
      "execution_count": 0,
      "outputs": [
        {
          "output_type": "execute_result",
          "data": {
            "text/plain": [
              "<matplotlib.image.AxesImage at 0x7f0530cf4ef0>"
            ]
          },
          "metadata": {
            "tags": []
          },
          "execution_count": 82
        },
        {
          "output_type": "display_data",
          "data": {
            "image/png": "[encoded data removed]",
            "text/plain": [
              "<Figure size 432x288 with 1 Axes>"
            ]
          },
          "metadata": {
            "tags": []
          }
        }
      ]
    },
    {
      "cell_type": "code",
      "metadata": {
        "id": "4xc5ISpdcE0T",
        "colab_type": "code",
        "colab": {}
      },
      "source": [
        "test_read = np.loadtxt(\"/content/drive/My Drive/Raw_Data/experiment-ii/S3/Sponge_Mat/Matrix_Sponge_B2.txt\")\n",
        "test_read = np.round(test_read*255/500).astype(np.uint8).reshape(1, 64, 27)\n"
      ],
      "execution_count": 0,
      "outputs": []
    },
    {
      "cell_type": "code",
      "metadata": {
        "id": "Yw7_rCLTu4mb",
        "colab_type": "code",
        "colab": {}
      },
      "source": [
        "import torchvision.transforms.functional as TF\n",
        "\n",
        "trans = transforms.Compose([\n",
        "    transforms.ToPILImage(),\n",
        "    transforms.Resize((64, 32))\n",
        "])\n",
        "\n"
      ],
      "execution_count": 0,
      "outputs": []
    },
    {
      "cell_type": "code",
      "metadata": {
        "id": "yiup6x3kwKA1",
        "colab_type": "code",
        "outputId": "06e26327-8a32-48d7-f2a5-4b85e6ee48d5",
        "colab": {
          "base_uri": "https://localhost:8080/",
          "height": 34
        }
      },
      "source": [
        "totns = transforms.ToTensor()\n",
        "tnsed=transforms.ToTensor()(TF.rotate(img=trans(test_read), angle=180))\n",
        "tnsed.shape\n"
      ],
      "execution_count": 0,
      "outputs": [
        {
          "output_type": "execute_result",
          "data": {
            "text/plain": [
              "torch.Size([3, 64, 32])"
            ]
          },
          "metadata": {
            "tags": []
          },
          "execution_count": 28
        }
      ]
    },
    {
      "cell_type": "code",
      "metadata": {
        "id": "MLtXdtmB-Syb",
        "colab_type": "code",
        "colab": {}
      },
      "source": [
        "tnsed.shape"
      ],
      "execution_count": 0,
      "outputs": []
    },
    {
      "cell_type": "code",
      "metadata": {
        "id": "moXU4mV3_Smo",
        "colab_type": "code",
        "colab": {}
      },
      "source": [
        "torch.exp(model.forward(tnsed.view(64,32).unsqueeze(0).cuda()))"
      ],
      "execution_count": 0,
      "outputs": []
    },
    {
      "cell_type": "code",
      "metadata": {
        "id": "NcnMocEW_jCc",
        "colab_type": "code",
        "colab": {}
      },
      "source": [
        ""
      ],
      "execution_count": 0,
      "outputs": []
    }
  ]
}