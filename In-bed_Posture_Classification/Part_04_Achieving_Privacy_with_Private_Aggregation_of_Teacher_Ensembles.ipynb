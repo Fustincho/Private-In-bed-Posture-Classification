{
  "nbformat": 4,
  "nbformat_minor": 0,
  "metadata": {
    "kernelspec": {
      "name": "python3",
      "display_name": "Python 3"
    },
    "language_info": {
      "codemirror_mode": {
        "name": "ipython",
        "version": 3
      },
      "file_extension": ".py",
      "mimetype": "text/x-python",
      "name": "python",
      "nbconvert_exporter": "python",
      "pygments_lexer": "ipython3",
      "version": "3.6.8"
    },
    "colab": {
      "name": "Part 4 - Achieving Privacy with Private Aggregation of Teacher Ensembles.ipynb",
      "version": "0.3.2",
      "provenance": [],
      "collapsed_sections": []
    },
    "accelerator": "GPU"
  },
  "cells": [
    {
      "cell_type": "code",
      "metadata": {
        "id": "ltgrGx6xpQg7",
        "colab_type": "code",
        "outputId": "2ab35fc8-22e5-4c7b-9214-9a0ef0d0ce81",
        "colab": {
          "base_uri": "https://localhost:8080/",
          "height": 125
        }
      },
      "source": [
        "from google.colab import drive\n",
        "drive.mount('/content/drive/')\n",
        "\n"
      ],
      "execution_count": 2,
      "outputs": [
        {
          "output_type": "stream",
          "text": [
            "Go to this URL in a browser: https://accounts.google.com/o/oauth2/auth?client_id=947318989803-6bn6qk8qdgf4n4g3pfee6491hc0brc4i.apps.googleusercontent.com&redirect_uri=urn%3Aietf%3Awg%3Aoauth%3A2.0%3Aoob&scope=email%20https%3A%2F%2Fwww.googleapis.com%2Fauth%2Fdocs.test%20https%3A%2F%2Fwww.googleapis.com%2Fauth%2Fdrive%20https%3A%2F%2Fwww.googleapis.com%2Fauth%2Fdrive.photos.readonly%20https%3A%2F%2Fwww.googleapis.com%2Fauth%2Fpeopleapi.readonly&response_type=code\n",
            "\n",
            "Enter your authorization code:\n",
            "··········\n",
            "Mounted at /content/drive/\n"
          ],
          "name": "stdout"
        }
      ]
    },
    {
      "cell_type": "code",
      "metadata": {
        "id": "JUsY4znI4eiM",
        "colab_type": "code",
        "colab": {}
      },
      "source": [
        "%%capture\n",
        "!pip install syft"
      ],
      "execution_count": 0,
      "outputs": []
    },
    {
      "cell_type": "code",
      "metadata": {
        "id": "kB-TXvI0pVbN",
        "colab_type": "code",
        "colab": {}
      },
      "source": [
        "import numpy as np\n",
        "import os\n",
        "import matplotlib.pyplot as plt\n",
        "\n",
        "from torch import optim\n",
        "import torchvision.transforms.functional as TF\n",
        "from torchvision import transforms\n",
        "\n",
        "from torch.utils.data import random_split\n",
        "from torch.utils.data import DataLoader\n"
      ],
      "execution_count": 0,
      "outputs": []
    },
    {
      "cell_type": "code",
      "metadata": {
        "id": "NAdR_-h8pQhY",
        "colab_type": "code",
        "colab": {}
      },
      "source": [
        "path_exp_1 = \"/content/drive/My Drive//Raw_Data/experiment-i/\"\n",
        "positions = [\"justAPlaceholder\",\"supine\", \"right\", \"left\", \"right\", \"right\", \"left\", \"left\", \"supine\", \"supine\", \"supine\", \"supine\", \"supine\", \"right\", \"left\", \"supine\", \"supine\", \"supine\"]\n",
        "\n",
        "subjects_dict = {}\n",
        "\n",
        "\n",
        "Normalize = transforms.Compose([\n",
        "    transforms.ToPILImage(),\n",
        "    transforms.ToTensor()\n",
        "  ])\n",
        "\n",
        "for _, dirs, _ in os.walk(path_exp_1):\n",
        "  for directory in dirs:\n",
        "    # each directory is a subject\n",
        "    subject = directory\n",
        "    data = None\n",
        "    labels = None\n",
        "    \n",
        "    for _, _, files in os.walk(os.path.join(path_exp_1, directory)):\n",
        "      for file in files:\n",
        "        file_path = os.path.join(path_exp_1, directory, file)\n",
        "        with open(file_path, 'r') as f:\n",
        "          # Start from second recording, as the first two are corrupted\n",
        "          for line in f.read().splitlines()[2:]:\n",
        "            def token_position(x):\n",
        "              return {\n",
        "                'supine': 0,\n",
        "                'left': 1,\n",
        "                'right': 2,\n",
        "                'left_fetus': 1,\n",
        "                'right_fetus': 2\n",
        "              }[x]\n",
        "            \n",
        "            \n",
        "            raw_data = np.fromstring(line, dtype=float, sep='\\t')\n",
        "            file_data = np.round(raw_data*255/1000).astype(np.uint8) # Change the range from [0-1000] to [0-255]. This allows us to use tranforms later.\n",
        "            file_data = Normalize(file_data.reshape(64,32))\n",
        "            file_data = file_data.view(1, 64, 32)\n",
        "            file_label = token_position(positions[int(file[:-4])]) # Turn the file index into position list, and turn position list into reduced indices.\n",
        "            file_label = np.array([file_label])\n",
        "            \n",
        "            if data is None:\n",
        "              data = file_data\n",
        "            else:\n",
        "              data = np.concatenate((data, file_data), axis=0)\n",
        "\n",
        "            if labels is None:\n",
        "              labels = file_label\n",
        "            else:\n",
        "              labels = np.concatenate((labels, file_label), axis=0)\n",
        "              \n",
        "    subjects_dict[subject] = (torch.from_numpy(data), torch.from_numpy(labels))"
      ],
      "execution_count": 0,
      "outputs": []
    },
    {
      "cell_type": "code",
      "metadata": {
        "id": "397KnMbXHjmw",
        "colab_type": "code",
        "colab": {}
      },
      "source": [
        "path_exp_2 = \"/content/drive/My Drive/Raw_Data/experiment-ii/\"\n",
        "\n",
        "positions = {\n",
        "    \"B\":\"supine\",\n",
        "    \"1\":\"supine\",\n",
        "    \"C\":\"right\",\n",
        "    \"D\":\"left\",\n",
        "    \"E1\":\"right\",\n",
        "    \"E2\":\"right\",\n",
        "    \"E3\":\"left\",\n",
        "    \"E4\":\"left\",\n",
        "    \"E5\":\"right\",\n",
        "    \"E6\":\"left\",\n",
        "    \"F\":\"supine\",\n",
        "    \"G1\":\"supine\",\n",
        "    \"G2\":\"right\",\n",
        "    \"G3\":\"left\"\n",
        "}\n",
        "\n",
        "def token_position(x):\n",
        "  return {\n",
        "    'supine': 0,\n",
        "    'left': 1,\n",
        "    'right': 2\n",
        "  }[x]\n",
        "\n",
        "subjects_dict_air = {}\n",
        "subjects_dict_spo = {}\n",
        "\n",
        "def resize_and_rotate(image):\n",
        "  To_PIL_and_Resize = transforms.Compose([\n",
        "    transforms.ToPILImage(),\n",
        "    transforms.Resize((64, 32))\n",
        "  ])\n",
        "  rotated = TF.rotate(To_PIL_and_Resize(image), angle=180)\n",
        "  return transforms.ToTensor()(rotated)\n",
        "\n",
        "\n",
        "# each directory is a subject\n",
        "for _, subject_dirs, _ in os.walk(path_exp_2):\n",
        "  for subject in subject_dirs:\n",
        "    data = None\n",
        "    labels = None\n",
        "    \n",
        "    # each directory is a matresss\n",
        "    for _, mat_dirs, _ in os.walk(os.path.join(path_exp_2, subject)):\n",
        "      for mat in mat_dirs:\n",
        "        for _, _, files in os.walk(os.path.join(path_exp_2, subject, mat)):\n",
        "\n",
        "          for file in files:\n",
        "\n",
        "            file_path = os.path.join(path_exp_2, subject, mat, file)\n",
        "            raw_data = np.loadtxt(file_path)\n",
        "            file_data = np.round(raw_data*255/500).astype(np.uint8) # Change the range from [0-500] to [0-255]. This allows us to use tranforms later. \n",
        "            file_data = resize_and_rotate(file_data)\n",
        "            file_data = file_data.view(1, 64, 32)\n",
        "            \n",
        "            if file[-6] == \"E\" or file[-6] == \"G\":\n",
        "              file_label = positions[file[-6:-4]]\n",
        "            else:\n",
        "              file_label = positions[file[-6]]\n",
        "            \n",
        "            file_label = token_position(file_label)\n",
        "            file_label = np.array([file_label])           \n",
        "\n",
        "            if data is None:\n",
        "              data = file_data\n",
        "            else:\n",
        "              data = np.concatenate((data, file_data), axis=0)\n",
        "\n",
        "            if labels is None:\n",
        "              labels = file_label\n",
        "            else:\n",
        "              labels = np.concatenate((labels, file_label), axis=0)\n",
        "        \n",
        "        if mat == \"Air_Mat\":                        \n",
        "          subjects_dict_air[subject] = (torch.from_numpy(data), torch.from_numpy(labels))\n",
        "        else:\n",
        "          subjects_dict_spo[subject] = (torch.from_numpy(data), torch.from_numpy(labels))\n",
        "        \n",
        "        data = None\n",
        "        labels = None"
      ],
      "execution_count": 0,
      "outputs": []
    },
    {
      "cell_type": "code",
      "metadata": {
        "id": "zz97Vl2IpQhc",
        "colab_type": "code",
        "colab": {}
      },
      "source": [
        "datasets = {\n",
        "    \"Base\":subjects_dict,\n",
        "    \"Spo\":subjects_dict_spo,\n",
        "    \"Air\":subjects_dict_air\n",
        "}\n",
        "\n",
        "from torch.utils.data import Dataset\n",
        "\n",
        "class Mat_Dataset(Dataset):\n",
        "  def __init__(self, mats, Subject_IDs):\n",
        "    \n",
        "    self.samples = []\n",
        "    self.labels = []\n",
        "    \n",
        "    for mat in mats:\n",
        "      data = datasets[mat]\n",
        "      self.samples.append(np.vstack([data.get(key)[0] for key in Subject_IDs]))\n",
        "      self.labels.append(np.hstack([data.get(key)[1] for key in Subject_IDs]))\n",
        "      \n",
        "    self.samples = np.vstack(self.samples)\n",
        "    self.labels = np.hstack(self.labels)\n",
        "    \n",
        "  def __len__(self):\n",
        "    return self.samples.shape[0]\n",
        "      \n",
        "  def __getitem__(self, idx):\n",
        "    return self.samples[idx], self.labels[idx]"
      ],
      "execution_count": 0,
      "outputs": []
    },
    {
      "cell_type": "markdown",
      "metadata": {
        "id": "2n8TBLJlpQhk",
        "colab_type": "text"
      },
      "source": [
        "PyTorch gives you the freedom to pretty much do anything with the Dataset class so long as you override two of the subclass functions:\n",
        "\n",
        "+ the __len__ function which returns the size of the dataset, and\n",
        "+ the __getitem__ function which returns a sample from the dataset given an index."
      ]
    },
    {
      "cell_type": "code",
      "metadata": {
        "id": "L1M2tm0_pQhq",
        "colab_type": "code",
        "colab": {}
      },
      "source": [
        "\n",
        "\n",
        "data_exp_1 = Mat_Dataset([\"Base\"], [key for key in subjects_dict.keys()])\n",
        "\n",
        "trainset_exp_1, valset_exp_1 = random_split(data_exp_1, [round(len(data_exp_1)*0.70), len(data_exp_1) - round(len(data_exp_1)*0.70)])\n",
        "\n",
        "trainloader = DataLoader(trainset_exp_1, batch_size=64, shuffle=True)\n",
        "testloader = DataLoader(valset_exp_1, batch_size=64, shuffle=False)"
      ],
      "execution_count": 0,
      "outputs": []
    },
    {
      "cell_type": "code",
      "metadata": {
        "id": "C2vMiFmAJkoc",
        "colab_type": "code",
        "outputId": "f11644d4-d108-48f7-91cf-b3be8a8f4e5d",
        "colab": {
          "base_uri": "https://localhost:8080/",
          "height": 194
        }
      },
      "source": [
        "import torch\n",
        "from torch import nn\n",
        "import torch.nn.functional as F\n",
        "\n",
        "class Network(nn.Module):\n",
        "    def __init__(self):\n",
        "        super().__init__()\n",
        "        \n",
        "        #Input channels = 1, output channels = 6\n",
        "        self.conv1 = torch.nn.Conv2d(1, 6, kernel_size=3, stride=1, padding=1)\n",
        "        self.conv2 = torch.nn.Conv2d(6, 18, kernel_size=3, stride=1, padding=1)\n",
        "        \n",
        "        self.pool = torch.nn.MaxPool2d(kernel_size=2, stride=2, padding=0)\n",
        "        \n",
        "        \n",
        "        # Inputs to hidden layer linear transformation\n",
        "        self.h1 = nn.Linear(18 * 16 * 8, 392)\n",
        "        self.h2 = nn.Linear(392, 98)\n",
        "        \n",
        "        # Output layer, 3 neurons - one for each position\n",
        "        self.output = nn.Linear(98, 3)\n",
        "        \n",
        "        # Define sigmoid activation and softmax output \n",
        "        self.relu = nn.ReLU()\n",
        "        self.logsoftmax = nn.LogSoftmax(dim=1)\n",
        "        \n",
        "    def forward(self, x):\n",
        "        x = x.float()\n",
        "        # Add a \"channel dimension\"\n",
        "        x = x.unsqueeze(1)\n",
        "        \n",
        "        #Computes the activation of the first convolution\n",
        "        #Size changes from (1, 64, 32) to (6, 64, 32)\n",
        "        \n",
        "        x = F.relu(self.conv1(x))\n",
        "\n",
        "        # LOOK HERE\n",
        "        #Size changes from (6, 32, 16) to (6, 32, 16)\n",
        "        x = self.pool(x)\n",
        "\n",
        "        \n",
        "        #Size changes from (6, 32, 16) to (18, 32, 16)\n",
        "        x = F.relu(self.conv2(x))\n",
        "\n",
        "        \n",
        "        #Size changes from (18, 32, 16) to (18, 16, 8)\n",
        "        x = self.pool(x)\n",
        "        \n",
        "        \n",
        "        #Reshape data to input to the input layer of the neural net\n",
        "        #Size changes from (18, 16, 16) to (1, 4608)\n",
        "        \n",
        "        x = x.view(x.shape[0], -1)\n",
        "        # Pass the input tensor through each of our operations\n",
        "        x = self.h1(x)\n",
        "\n",
        "        x = self.relu(x)\n",
        "        x = self.h2(x)\n",
        "\n",
        "        x = self.relu(x)\n",
        "        x = self.output(x)\n",
        "\n",
        "        x = self.logsoftmax(x)\n",
        "        \n",
        "        return x"
      ],
      "execution_count": 9,
      "outputs": [
        {
          "output_type": "execute_result",
          "data": {
            "text/plain": [
              "Network(\n",
              "  (conv1): Conv2d(1, 6, kernel_size=(3, 3), stride=(1, 1), padding=(1, 1))\n",
              "  (conv2): Conv2d(6, 18, kernel_size=(3, 3), stride=(1, 1), padding=(1, 1))\n",
              "  (pool): MaxPool2d(kernel_size=2, stride=2, padding=0, dilation=1, ceil_mode=False)\n",
              "  (h1): Linear(in_features=2304, out_features=392, bias=True)\n",
              "  (h2): Linear(in_features=392, out_features=98, bias=True)\n",
              "  (output): Linear(in_features=98, out_features=3, bias=True)\n",
              "  (relu): ReLU()\n",
              "  (logsoftmax): LogSoftmax()\n",
              ")"
            ]
          },
          "metadata": {
            "tags": []
          },
          "execution_count": 9
        }
      ]
    },
    {
      "cell_type": "code",
      "metadata": {
        "id": "DUrBVpHn0LY-",
        "colab_type": "code",
        "colab": {}
      },
      "source": [
        "def train_model(device, trainloader, testloader=None):\n",
        "  model = Network()\n",
        "\n",
        "  criterion = nn.NLLLoss()\n",
        "\n",
        "  optimizer = optim.Adam(model.parameters(), lr = 0.01)\n",
        "\n",
        "  model.to(device)\n",
        "\n",
        "  epochs = 15\n",
        "  running_loss = 0\n",
        "\n",
        "  torch.manual_seed(123)\n",
        "\n",
        "  train_losses, test_losses = [], []\n",
        "\n",
        "  for epoch in range(epochs):\n",
        "    for inputs, labels in trainloader:\n",
        "\n",
        "      inputs, labels = inputs.to(device), labels.to(device)\n",
        "\n",
        "      optimizer.zero_grad()\n",
        "\n",
        "      logps = model.forward(inputs)\n",
        "      loss = criterion(logps, labels)\n",
        "      loss.backward()\n",
        "      optimizer.step()\n",
        "\n",
        "      running_loss += loss.item()\n",
        "\n",
        "    else:\n",
        "\n",
        "      if testloader != None:\n",
        "        \n",
        "        test_loss = 0\n",
        "        accuracy = 0\n",
        "        model.eval()\n",
        "\n",
        "        with torch.no_grad():\n",
        "          for inputs, labels in testloader:\n",
        "            inputs, labels = inputs.to(device), labels.to(device)\n",
        "            logps = model.forward(inputs)\n",
        "            test_loss += criterion(logps, labels)\n",
        "\n",
        "            ps = torch.exp(logps)\n",
        "            top_p, top_class = ps.topk(1, dim=1)\n",
        "            equals = top_class == labels.view(*top_class.shape)\n",
        "            accuracy += torch.mean(equals.type(torch.FloatTensor))\n",
        "\n",
        "        train_losses.append(running_loss/len(trainloader))\n",
        "        test_losses.append(test_loss/len(testloader))\n",
        "\n",
        "        print(f\"Epoch {epoch+1}/{epochs}.. \"\n",
        "              f\"Train loss: {running_loss/len(trainloader):.3f}.. \"\n",
        "              f\"Test loss: {test_loss/len(testloader):.3f}.. \"\n",
        "              f\"Test accuracy: {accuracy/len(testloader):.3f}\")\n",
        "        running_loss = 0\n",
        "        model.train()\n",
        "\n",
        "\n",
        "  plt.plot(train_losses, label='Training loss')\n",
        "  #plt.plot(test_losses, label='Validation loss')\n",
        "  plt.legend(frameon=False)\n",
        "  return model"
      ],
      "execution_count": 0,
      "outputs": []
    },
    {
      "cell_type": "code",
      "metadata": {
        "id": "m6SY6Tt9YW1U",
        "colab_type": "code",
        "colab": {
          "base_uri": "https://localhost:8080/",
          "height": 463
        },
        "outputId": "822c10ba-81d7-43d1-e558-d7aa1e150149"
      },
      "source": [
        "device = torch.device(\"cuda\" if torch.cuda.is_available() else \"cpu\")\n",
        "print(f\"Working on: {device.type}\")\n",
        "\n",
        "hospitals = [\"S1\", \"S2\", \"S3\", \"S4\", \"S5\", \"S6\", \"S7\", \"S8\", \"S9\", \"S10\"]\n",
        "\n",
        "hospitals_preds = {}\n",
        "\n",
        "my_hospital = [\"S11\", \"S12\", \"S13\"]\n",
        "\n",
        "my_data = Mat_Dataset([\"Base\"], my_hospital)\n",
        "my_data_loader = DataLoader(my_data, batch_size=len(my_data), shuffle=False)\n",
        "\n",
        "for hospital in hospitals:\n",
        "  private_data = Mat_Dataset([\"Base\"], [hospital])\n",
        "  private_data_loader = DataLoader(private_data, batch_size=64, shuffle=True)\n",
        "  private_model = train_model(device, private_data_loader)\n",
        "  \n",
        "  accuracy = 0\n",
        "  private_model.to(device)\n",
        "  private_model.eval()\n",
        "  with torch.no_grad():\n",
        "      \n",
        "    for inputs, labels in my_data_loader:\n",
        "\n",
        "      inputs, labels = inputs.to(device), labels.to(device)\n",
        "      logps = private_model.forward(inputs)\n",
        "      ps = torch.exp(logps)\n",
        "      top_p, top_class = ps.topk(1, dim=1)\n",
        "      equals = top_class == labels.view(*top_class.shape)\n",
        "      accuracy += torch.mean(equals.type(torch.FloatTensor))\n",
        "      print(f\"Accuracy {accuracy/len(my_data_loader):.3f}\")\n",
        "      hospitals_preds[hospital] = top_class\n",
        "    \n",
        "  "
      ],
      "execution_count": 20,
      "outputs": [
        {
          "output_type": "stream",
          "text": [
            "Working on: cuda\n",
            "Accuracy 0.828\n",
            "Accuracy 0.875\n",
            "Accuracy 0.917\n",
            "Accuracy 0.738\n",
            "Accuracy 0.837\n",
            "Accuracy 0.869\n",
            "Accuracy 0.816\n",
            "Accuracy 0.857\n",
            "Accuracy 0.827\n",
            "Accuracy 0.882\n"
          ],
          "name": "stdout"
        },
        {
          "output_type": "display_data",
          "data": {
            "image/png": "[encoded data removed]",
            "text/plain": [
              "<Figure size 432x288 with 1 Axes>"
            ]
          },
          "metadata": {
            "tags": []
          }
        }
      ]
    },
    {
      "cell_type": "code",
      "metadata": {
        "id": "7FpVAOIChuHa",
        "colab_type": "code",
        "colab": {}
      },
      "source": [
        "#Images x Hospitals\n",
        "\n",
        "#hospital_p.shape\n",
        "\n",
        "hospital_p = np.hstack([hospitals_preds.get(key).cpu() for key in hospitals_preds.keys()])\n",
        "num_positions = 3\n",
        "\n",
        "def hospitals_vote(hospital_p, epsilon=0.1):\n",
        "  new_labels = list()\n",
        "\n",
        "  for a_measurement in hospital_p:\n",
        "\n",
        "    label_counts = np.bincount(a_measurement, minlength=num_positions)\n",
        "\n",
        "    beta = 1 / epsilon\n",
        "\n",
        "    for i in range(len(label_counts)):\n",
        "      label_counts[i] += np.random.laplace(0, beta, 1)\n",
        "\n",
        "    new_label = np.argmax(label_counts)\n",
        "\n",
        "    new_labels.append(new_label)\n",
        "  \n",
        "  return np.array(new_labels)"
      ],
      "execution_count": 0,
      "outputs": []
    },
    {
      "cell_type": "code",
      "metadata": {
        "id": "XBfwMnH91RQo",
        "colab_type": "code",
        "colab": {
          "base_uri": "https://localhost:8080/",
          "height": 35
        },
        "outputId": "b8768132-ee66-4a6a-f412-9269162342fd"
      },
      "source": [
        ""
      ],
      "execution_count": 119,
      "outputs": [
        {
          "output_type": "execute_result",
          "data": {
            "text/plain": [
              "(4324, 10)"
            ]
          },
          "metadata": {
            "tags": []
          },
          "execution_count": 119
        }
      ]
    },
    {
      "cell_type": "code",
      "metadata": {
        "id": "V-DMo2MmnLRL",
        "colab_type": "code",
        "colab": {
          "base_uri": "https://localhost:8080/",
          "height": 70
        },
        "outputId": "18fc9918-b344-4f29-ee80-bdc1fa97ae9a"
      },
      "source": [
        "from syft.frameworks.torch.differential_privacy import pate\n",
        "\n",
        "indices = hospitals_vote(hospital_p, epsilon=0.01)\n",
        "data_dep_eps, data_ind_eps = pate.perform_analysis(teacher_preds=hospital_p.transpose(), indices=indices, noise_eps=0.01, delta=1e-5)\n",
        "print(\"Data Independent Epsilon:\", data_ind_eps)\n",
        "print(\"Data Dependent Epsilon:\", data_dep_eps)\n",
        "\n",
        "sum(np.array(indices) == tr_d)/np.shape(np.array(indices) == tr_d)[0]"
      ],
      "execution_count": 130,
      "outputs": [
        {
          "output_type": "stream",
          "text": [
            "Data Independent Epsilon: 7.202231366242557\n",
            "Data Dependent Epsilon: 7.202231366242335\n"
          ],
          "name": "stdout"
        },
        {
          "output_type": "execute_result",
          "data": {
            "text/plain": [
              "0.3503700277520814"
            ]
          },
          "metadata": {
            "tags": []
          },
          "execution_count": 130
        }
      ]
    },
    {
      "cell_type": "code",
      "metadata": {
        "id": "lLlDG9tNw-K3",
        "colab_type": "code",
        "colab": {}
      },
      "source": [
        "# True\n",
        "tr_d = my_data[:][1]"
      ],
      "execution_count": 0,
      "outputs": []
    },
    {
      "cell_type": "code",
      "metadata": {
        "id": "Qvy4Lrtf2UtH",
        "colab_type": "code",
        "colab": {
          "base_uri": "https://localhost:8080/",
          "height": 35
        },
        "outputId": "07755846-bc94-4b8a-c140-9fc235167345"
      },
      "source": [
        "indices = hospitals_vote(hospital_p, epsilon=0.5)\n",
        "sum(np.array(indices) == tr_d)/np.shape(np.array(indices) == tr_d)[0]"
      ],
      "execution_count": 134,
      "outputs": [
        {
          "output_type": "execute_result",
          "data": {
            "text/plain": [
              "0.8896854764107308"
            ]
          },
          "metadata": {
            "tags": []
          },
          "execution_count": 134
        }
      ]
    },
    {
      "cell_type": "code",
      "metadata": {
        "id": "6hHYcRha2WK4",
        "colab_type": "code",
        "colab": {
          "base_uri": "https://localhost:8080/",
          "height": 35
        },
        "outputId": "9da89ea6-ffed-421a-a468-6edd1287e130"
      },
      "source": [
        "np.random.laplace(0, 1/0.1, 1)"
      ],
      "execution_count": 136,
      "outputs": [
        {
          "output_type": "execute_result",
          "data": {
            "text/plain": [
              "array([-13.52000765])"
            ]
          },
          "metadata": {
            "tags": []
          },
          "execution_count": 136
        }
      ]
    },
    {
      "cell_type": "code",
      "metadata": {
        "id": "QQ9XEJsA6I3m",
        "colab_type": "code",
        "colab": {}
      },
      "source": [
        ""
      ],
      "execution_count": 0,
      "outputs": []
    }
  ]
}